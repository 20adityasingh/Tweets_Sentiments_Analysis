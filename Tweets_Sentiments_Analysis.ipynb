{
 "cells": [
  {
   "cell_type": "code",
   "execution_count": null,
   "metadata": {
    "colab": {
     "base_uri": "https://localhost:8080/"
    },
    "executionInfo": {
     "elapsed": 551,
     "status": "ok",
     "timestamp": 1754310383866,
     "user": {
      "displayName": "Aditya Singh",
      "userId": "15506429532817654179"
     },
     "user_tz": -330
    },
    "id": "dI1zw5GvHoCO",
    "outputId": "5e3baf32-9618-4462-c4cf-f695480d0149"
   },
   "outputs": [],
   "source": [
    "import pandas as pd\n",
    "import numpy as np\n",
    "import re\n",
    "from tqdm import tqdm\n",
    "import seaborn as sns\n",
    "import matplotlib.pyplot as plt\n",
    "import plotly.express as px\n",
    "import plotly.figure_factory as ff\n",
    "from plotly.subplots import make_subplots\n",
    "from sklearn.model_selection import train_test_split\n",
    "from sklearn.feature_extraction.text import TfidfVectorizer, CountVectorizer\n",
    "from tensorflow.keras.models import Model\n",
    "from tensorflow.keras.layers import Input, Dense, Dropout, Embedding, Flatten, SimpleRNN, LSTM, GRU, Bidirectional, GlobalMaxPool1D, Conv1D\n",
    "from tensorflow.keras.preprocessing.text import Tokenizer\n",
    "from tensorflow.keras.preprocessing.sequence import pad_sequences\n",
    "from tensorflow.keras.optimizers import Adam\n",
    "\n",
    "import spacy\n",
    "nlp = spacy.load('en_core_web_sm')\n",
    "\n",
    "import nltk\n",
    "from nltk.corpus import stopwords\n",
    "nltk.download('stopwords')\n",
    "stop_words = stopwords.words('english')\n"
   ]
  },
  {
   "cell_type": "markdown",
   "metadata": {
    "id": "vyBhgA5I6WZk"
   },
   "source": [
    "# Data Cleaning"
   ]
  },
  {
   "cell_type": "code",
   "execution_count": null,
   "metadata": {
    "executionInfo": {
     "elapsed": 3665,
     "status": "ok",
     "timestamp": 1754310387527,
     "user": {
      "displayName": "Aditya Singh",
      "userId": "15506429532817654179"
     },
     "user_tz": -330
    },
    "id": "gIF8QN-ZLYb7"
   },
   "outputs": [],
   "source": [
    "df = pd.read_csv('training.1600000.processed.noemoticon.csv', encoding='latin', header = None, on_bad_lines= 'skip')\n",
    "df.rename(columns={0:'labels', 5:'tweets'}, inplace=True)\n",
    "df.drop(columns=[1,2,3,4], inplace=True)"
   ]
  },
  {
   "cell_type": "code",
   "execution_count": null,
   "metadata": {
    "executionInfo": {
     "elapsed": 338,
     "status": "ok",
     "timestamp": 1754310387869,
     "user": {
      "displayName": "Aditya Singh",
      "userId": "15506429532817654179"
     },
     "user_tz": -330
    },
    "id": "BSnzgAWJLbI0"
   },
   "outputs": [],
   "source": [
    "df.replace({4:1}, inplace=True)"
   ]
  },
  {
   "cell_type": "code",
   "execution_count": null,
   "metadata": {
    "executionInfo": {
     "elapsed": 9,
     "status": "ok",
     "timestamp": 1754310387872,
     "user": {
      "displayName": "Aditya Singh",
      "userId": "15506429532817654179"
     },
     "user_tz": -330
    },
    "id": "pzuXn3xBV82Y"
   },
   "outputs": [],
   "source": [
    "df = df.sample(frac=1, random_state=42)\n",
    "df = df.head(10000)\n",
    "df['tweets'].values[1]"
   ]
  },
  {
   "cell_type": "code",
   "execution_count": null,
   "metadata": {
    "colab": {
     "base_uri": "https://localhost:8080/"
    },
    "executionInfo": {
     "elapsed": 11040143,
     "status": "ok",
     "timestamp": 1754321428010,
     "user": {
      "displayName": "Aditya Singh",
      "userId": "15506429532817654179"
     },
     "user_tz": -330
    },
    "id": "_QFx7dkThWc8",
    "outputId": "2b2c9639-6526-429d-99e7-4a9b9016586a"
   },
   "outputs": [
    {
     "name": "stderr",
     "output_type": "stream",
     "text": [
      "100%|██████████| 1600000/1600000 [3:03:57<00:00, 144.96it/s]\n",
      "100%|██████████| 1600000/1600000 [00:00<00:00, 2731933.92it/s]\n",
      "100%|██████████| 1600000/1600000 [00:01<00:00, 1421491.38it/s]\n"
     ]
    }
   ],
   "source": [
    "def char_count(tweets):\n",
    "  return len(tweets)\n",
    "\n",
    "def word_count(tweets):\n",
    "  return len(tweets.split(' '))\n",
    "\n",
    "def pre_process(tweets):\n",
    "  tweets = tweets.lower()\n",
    "  tweets = re.sub(r'http\\S+ | www\\S+ | https\\S+', '', tweets, flags= re.MULTILINE)\n",
    "  tweets = re.sub(r'@\\w+', '', tweets)\n",
    "  tweets = re.sub(r'^#\\S+', '', tweets)\n",
    "  tokens = [ token.lemma_ for token in nlp(tweets) if token.text not in stop_words and len(token) > 1]\n",
    "  processed_tweets = ' '.join(tokens)\n",
    "  return processed_tweets\n",
    "\n",
    "df['clean_tweets'] = [pre_process(tweet) for tweet in tqdm(df['tweets'], position=0, leave=True)]\n",
    "df['char_count'] = [char_count(tweet) for tweet in tqdm(df['clean_tweets'], position=0, leave=True)]\n",
    "df['word_count'] = [word_count(tweet) for tweet in tqdm(df['clean_tweets'], position=0, leave=True)]"
   ]
  },
  {
   "cell_type": "code",
   "execution_count": null,
   "metadata": {
    "colab": {
     "base_uri": "https://localhost:8080/",
     "height": 363
    },
    "executionInfo": {
     "elapsed": 41,
     "status": "ok",
     "timestamp": 1754321539261,
     "user": {
      "displayName": "Aditya Singh",
      "userId": "15506429532817654179"
     },
     "user_tz": -330
    },
    "id": "1tiYMG_yPe0K",
    "outputId": "b4d70ce9-6443-4baa-980a-9102b58d9051"
   },
   "outputs": [
    {
     "data": {
      "application/vnd.google.colaboratory.intrinsic+json": {
       "type": "dataframe",
       "variable_name": "df"
      },
      "text/html": [
       "\n",
       "  <div id=\"df-6f93fad6-8b94-4071-8177-ad18ed93d88d\" class=\"colab-df-container\">\n",
       "    <div>\n",
       "<style scoped>\n",
       "    .dataframe tbody tr th:only-of-type {\n",
       "        vertical-align: middle;\n",
       "    }\n",
       "\n",
       "    .dataframe tbody tr th {\n",
       "        vertical-align: top;\n",
       "    }\n",
       "\n",
       "    .dataframe thead th {\n",
       "        text-align: right;\n",
       "    }\n",
       "</style>\n",
       "<table border=\"1\" class=\"dataframe\">\n",
       "  <thead>\n",
       "    <tr style=\"text-align: right;\">\n",
       "      <th></th>\n",
       "      <th>labels</th>\n",
       "      <th>tweets</th>\n",
       "      <th>clean_tweets</th>\n",
       "      <th>char_count</th>\n",
       "      <th>word_count</th>\n",
       "    </tr>\n",
       "  </thead>\n",
       "  <tbody>\n",
       "    <tr>\n",
       "      <th>0</th>\n",
       "      <td>0</td>\n",
       "      <td>@switchfoot http://twitpic.com/2y1zl - Awww, t...</td>\n",
       "      <td>awww be bummer shoulda get david carr third day</td>\n",
       "      <td>47</td>\n",
       "      <td>9</td>\n",
       "    </tr>\n",
       "    <tr>\n",
       "      <th>1</th>\n",
       "      <td>0</td>\n",
       "      <td>is upset that he can't update his Facebook by ...</td>\n",
       "      <td>upset can not update facebook texte ... might ...</td>\n",
       "      <td>79</td>\n",
       "      <td>14</td>\n",
       "    </tr>\n",
       "    <tr>\n",
       "      <th>2</th>\n",
       "      <td>0</td>\n",
       "      <td>@Kenichan I dived many times for the ball. Man...</td>\n",
       "      <td>dive many time ball manage save 50 rest go bound</td>\n",
       "      <td>48</td>\n",
       "      <td>10</td>\n",
       "    </tr>\n",
       "    <tr>\n",
       "      <th>3</th>\n",
       "      <td>0</td>\n",
       "      <td>my whole body feels itchy and like its on fire</td>\n",
       "      <td>whole body feel itchy like fire</td>\n",
       "      <td>31</td>\n",
       "      <td>6</td>\n",
       "    </tr>\n",
       "    <tr>\n",
       "      <th>4</th>\n",
       "      <td>0</td>\n",
       "      <td>@nationwideclass no, it's not behaving at all....</td>\n",
       "      <td>be behave be mad can not see</td>\n",
       "      <td>28</td>\n",
       "      <td>7</td>\n",
       "    </tr>\n",
       "    <tr>\n",
       "      <th>5</th>\n",
       "      <td>0</td>\n",
       "      <td>@Kwesidei not the whole crew</td>\n",
       "      <td>whole crew</td>\n",
       "      <td>10</td>\n",
       "      <td>2</td>\n",
       "    </tr>\n",
       "    <tr>\n",
       "      <th>6</th>\n",
       "      <td>0</td>\n",
       "      <td>Need a hug</td>\n",
       "      <td>need hug</td>\n",
       "      <td>8</td>\n",
       "      <td>2</td>\n",
       "    </tr>\n",
       "    <tr>\n",
       "      <th>7</th>\n",
       "      <td>0</td>\n",
       "      <td>@LOLTrish hey  long time no see! Yes.. Rains a...</td>\n",
       "      <td>hey long time see yes .. rain bit bit lol be f...</td>\n",
       "      <td>58</td>\n",
       "      <td>14</td>\n",
       "    </tr>\n",
       "    <tr>\n",
       "      <th>8</th>\n",
       "      <td>0</td>\n",
       "      <td>@Tatiana_K nope they didn't have it</td>\n",
       "      <td>nope not</td>\n",
       "      <td>8</td>\n",
       "      <td>2</td>\n",
       "    </tr>\n",
       "    <tr>\n",
       "      <th>9</th>\n",
       "      <td>0</td>\n",
       "      <td>@twittera que me muera ?</td>\n",
       "      <td>que muera</td>\n",
       "      <td>9</td>\n",
       "      <td>2</td>\n",
       "    </tr>\n",
       "  </tbody>\n",
       "</table>\n",
       "</div>\n",
       "    <div class=\"colab-df-buttons\">\n",
       "\n",
       "  <div class=\"colab-df-container\">\n",
       "    <button class=\"colab-df-convert\" onclick=\"convertToInteractive('df-6f93fad6-8b94-4071-8177-ad18ed93d88d')\"\n",
       "            title=\"Convert this dataframe to an interactive table.\"\n",
       "            style=\"display:none;\">\n",
       "\n",
       "  <svg xmlns=\"http://www.w3.org/2000/svg\" height=\"24px\" viewBox=\"0 -960 960 960\">\n",
       "    <path d=\"M120-120v-720h720v720H120Zm60-500h600v-160H180v160Zm220 220h160v-160H400v160Zm0 220h160v-160H400v160ZM180-400h160v-160H180v160Zm440 0h160v-160H620v160ZM180-180h160v-160H180v160Zm440 0h160v-160H620v160Z\"/>\n",
       "  </svg>\n",
       "    </button>\n",
       "\n",
       "  <style>\n",
       "    .colab-df-container {\n",
       "      display:flex;\n",
       "      gap: 12px;\n",
       "    }\n",
       "\n",
       "    .colab-df-convert {\n",
       "      background-color: #E8F0FE;\n",
       "      border: none;\n",
       "      border-radius: 50%;\n",
       "      cursor: pointer;\n",
       "      display: none;\n",
       "      fill: #1967D2;\n",
       "      height: 32px;\n",
       "      padding: 0 0 0 0;\n",
       "      width: 32px;\n",
       "    }\n",
       "\n",
       "    .colab-df-convert:hover {\n",
       "      background-color: #E2EBFA;\n",
       "      box-shadow: 0px 1px 2px rgba(60, 64, 67, 0.3), 0px 1px 3px 1px rgba(60, 64, 67, 0.15);\n",
       "      fill: #174EA6;\n",
       "    }\n",
       "\n",
       "    .colab-df-buttons div {\n",
       "      margin-bottom: 4px;\n",
       "    }\n",
       "\n",
       "    [theme=dark] .colab-df-convert {\n",
       "      background-color: #3B4455;\n",
       "      fill: #D2E3FC;\n",
       "    }\n",
       "\n",
       "    [theme=dark] .colab-df-convert:hover {\n",
       "      background-color: #434B5C;\n",
       "      box-shadow: 0px 1px 3px 1px rgba(0, 0, 0, 0.15);\n",
       "      filter: drop-shadow(0px 1px 2px rgba(0, 0, 0, 0.3));\n",
       "      fill: #FFFFFF;\n",
       "    }\n",
       "  </style>\n",
       "\n",
       "    <script>\n",
       "      const buttonEl =\n",
       "        document.querySelector('#df-6f93fad6-8b94-4071-8177-ad18ed93d88d button.colab-df-convert');\n",
       "      buttonEl.style.display =\n",
       "        google.colab.kernel.accessAllowed ? 'block' : 'none';\n",
       "\n",
       "      async function convertToInteractive(key) {\n",
       "        const element = document.querySelector('#df-6f93fad6-8b94-4071-8177-ad18ed93d88d');\n",
       "        const dataTable =\n",
       "          await google.colab.kernel.invokeFunction('convertToInteractive',\n",
       "                                                    [key], {});\n",
       "        if (!dataTable) return;\n",
       "\n",
       "        const docLinkHtml = 'Like what you see? Visit the ' +\n",
       "          '<a target=\"_blank\" href=https://colab.research.google.com/notebooks/data_table.ipynb>data table notebook</a>'\n",
       "          + ' to learn more about interactive tables.';\n",
       "        element.innerHTML = '';\n",
       "        dataTable['output_type'] = 'display_data';\n",
       "        await google.colab.output.renderOutput(dataTable, element);\n",
       "        const docLink = document.createElement('div');\n",
       "        docLink.innerHTML = docLinkHtml;\n",
       "        element.appendChild(docLink);\n",
       "      }\n",
       "    </script>\n",
       "  </div>\n",
       "\n",
       "\n",
       "    <div id=\"df-24475caa-35b9-4f59-b6bd-76448dce5330\">\n",
       "      <button class=\"colab-df-quickchart\" onclick=\"quickchart('df-24475caa-35b9-4f59-b6bd-76448dce5330')\"\n",
       "                title=\"Suggest charts\"\n",
       "                style=\"display:none;\">\n",
       "\n",
       "<svg xmlns=\"http://www.w3.org/2000/svg\" height=\"24px\"viewBox=\"0 0 24 24\"\n",
       "     width=\"24px\">\n",
       "    <g>\n",
       "        <path d=\"M19 3H5c-1.1 0-2 .9-2 2v14c0 1.1.9 2 2 2h14c1.1 0 2-.9 2-2V5c0-1.1-.9-2-2-2zM9 17H7v-7h2v7zm4 0h-2V7h2v10zm4 0h-2v-4h2v4z\"/>\n",
       "    </g>\n",
       "</svg>\n",
       "      </button>\n",
       "\n",
       "<style>\n",
       "  .colab-df-quickchart {\n",
       "      --bg-color: #E8F0FE;\n",
       "      --fill-color: #1967D2;\n",
       "      --hover-bg-color: #E2EBFA;\n",
       "      --hover-fill-color: #174EA6;\n",
       "      --disabled-fill-color: #AAA;\n",
       "      --disabled-bg-color: #DDD;\n",
       "  }\n",
       "\n",
       "  [theme=dark] .colab-df-quickchart {\n",
       "      --bg-color: #3B4455;\n",
       "      --fill-color: #D2E3FC;\n",
       "      --hover-bg-color: #434B5C;\n",
       "      --hover-fill-color: #FFFFFF;\n",
       "      --disabled-bg-color: #3B4455;\n",
       "      --disabled-fill-color: #666;\n",
       "  }\n",
       "\n",
       "  .colab-df-quickchart {\n",
       "    background-color: var(--bg-color);\n",
       "    border: none;\n",
       "    border-radius: 50%;\n",
       "    cursor: pointer;\n",
       "    display: none;\n",
       "    fill: var(--fill-color);\n",
       "    height: 32px;\n",
       "    padding: 0;\n",
       "    width: 32px;\n",
       "  }\n",
       "\n",
       "  .colab-df-quickchart:hover {\n",
       "    background-color: var(--hover-bg-color);\n",
       "    box-shadow: 0 1px 2px rgba(60, 64, 67, 0.3), 0 1px 3px 1px rgba(60, 64, 67, 0.15);\n",
       "    fill: var(--button-hover-fill-color);\n",
       "  }\n",
       "\n",
       "  .colab-df-quickchart-complete:disabled,\n",
       "  .colab-df-quickchart-complete:disabled:hover {\n",
       "    background-color: var(--disabled-bg-color);\n",
       "    fill: var(--disabled-fill-color);\n",
       "    box-shadow: none;\n",
       "  }\n",
       "\n",
       "  .colab-df-spinner {\n",
       "    border: 2px solid var(--fill-color);\n",
       "    border-color: transparent;\n",
       "    border-bottom-color: var(--fill-color);\n",
       "    animation:\n",
       "      spin 1s steps(1) infinite;\n",
       "  }\n",
       "\n",
       "  @keyframes spin {\n",
       "    0% {\n",
       "      border-color: transparent;\n",
       "      border-bottom-color: var(--fill-color);\n",
       "      border-left-color: var(--fill-color);\n",
       "    }\n",
       "    20% {\n",
       "      border-color: transparent;\n",
       "      border-left-color: var(--fill-color);\n",
       "      border-top-color: var(--fill-color);\n",
       "    }\n",
       "    30% {\n",
       "      border-color: transparent;\n",
       "      border-left-color: var(--fill-color);\n",
       "      border-top-color: var(--fill-color);\n",
       "      border-right-color: var(--fill-color);\n",
       "    }\n",
       "    40% {\n",
       "      border-color: transparent;\n",
       "      border-right-color: var(--fill-color);\n",
       "      border-top-color: var(--fill-color);\n",
       "    }\n",
       "    60% {\n",
       "      border-color: transparent;\n",
       "      border-right-color: var(--fill-color);\n",
       "    }\n",
       "    80% {\n",
       "      border-color: transparent;\n",
       "      border-right-color: var(--fill-color);\n",
       "      border-bottom-color: var(--fill-color);\n",
       "    }\n",
       "    90% {\n",
       "      border-color: transparent;\n",
       "      border-bottom-color: var(--fill-color);\n",
       "    }\n",
       "  }\n",
       "</style>\n",
       "\n",
       "      <script>\n",
       "        async function quickchart(key) {\n",
       "          const quickchartButtonEl =\n",
       "            document.querySelector('#' + key + ' button');\n",
       "          quickchartButtonEl.disabled = true;  // To prevent multiple clicks.\n",
       "          quickchartButtonEl.classList.add('colab-df-spinner');\n",
       "          try {\n",
       "            const charts = await google.colab.kernel.invokeFunction(\n",
       "                'suggestCharts', [key], {});\n",
       "          } catch (error) {\n",
       "            console.error('Error during call to suggestCharts:', error);\n",
       "          }\n",
       "          quickchartButtonEl.classList.remove('colab-df-spinner');\n",
       "          quickchartButtonEl.classList.add('colab-df-quickchart-complete');\n",
       "        }\n",
       "        (() => {\n",
       "          let quickchartButtonEl =\n",
       "            document.querySelector('#df-24475caa-35b9-4f59-b6bd-76448dce5330 button');\n",
       "          quickchartButtonEl.style.display =\n",
       "            google.colab.kernel.accessAllowed ? 'block' : 'none';\n",
       "        })();\n",
       "      </script>\n",
       "    </div>\n",
       "\n",
       "    </div>\n",
       "  </div>\n"
      ],
      "text/plain": [
       "   labels                                             tweets  \\\n",
       "0       0  @switchfoot http://twitpic.com/2y1zl - Awww, t...   \n",
       "1       0  is upset that he can't update his Facebook by ...   \n",
       "2       0  @Kenichan I dived many times for the ball. Man...   \n",
       "3       0    my whole body feels itchy and like its on fire    \n",
       "4       0  @nationwideclass no, it's not behaving at all....   \n",
       "5       0                      @Kwesidei not the whole crew    \n",
       "6       0                                        Need a hug    \n",
       "7       0  @LOLTrish hey  long time no see! Yes.. Rains a...   \n",
       "8       0               @Tatiana_K nope they didn't have it    \n",
       "9       0                          @twittera que me muera ?    \n",
       "\n",
       "                                        clean_tweets  char_count  word_count  \n",
       "0    awww be bummer shoulda get david carr third day          47           9  \n",
       "1  upset can not update facebook texte ... might ...          79          14  \n",
       "2   dive many time ball manage save 50 rest go bound          48          10  \n",
       "3                    whole body feel itchy like fire          31           6  \n",
       "4                       be behave be mad can not see          28           7  \n",
       "5                                         whole crew          10           2  \n",
       "6                                           need hug           8           2  \n",
       "7  hey long time see yes .. rain bit bit lol be f...          58          14  \n",
       "8                                           nope not           8           2  \n",
       "9                                          que muera           9           2  "
      ]
     },
     "execution_count": 14,
     "metadata": {},
     "output_type": "execute_result"
    }
   ],
   "source": [
    "df.head(10)"
   ]
  },
  {
   "cell_type": "markdown",
   "metadata": {
    "id": "WPsg_5Hy6MeR"
   },
   "source": [
    "# Visualizations"
   ]
  },
  {
   "cell_type": "code",
   "execution_count": null,
   "metadata": {
    "colab": {
     "base_uri": "https://localhost:8080/",
     "height": 542
    },
    "executionInfo": {
     "elapsed": 1253,
     "status": "ok",
     "timestamp": 1754321429332,
     "user": {
      "displayName": "Aditya Singh",
      "userId": "15506429532817654179"
     },
     "user_tz": -330
    },
    "id": "dd_HjHYqLNzt",
    "outputId": "ff99ae14-83d4-4ae5-c4f4-7ad4d14501fe"
   },
   "outputs": [
    {
     "data": {
      "text/html": [
       "<html>\n",
       "<head><meta charset=\"utf-8\" /></head>\n",
       "<body>\n",
       "    <div>            <script src=\"https://cdnjs.cloudflare.com/ajax/libs/mathjax/2.7.5/MathJax.js?config=TeX-AMS-MML_SVG\"></script><script type=\"text/javascript\">if (window.MathJax && window.MathJax.Hub && window.MathJax.Hub.Config) {window.MathJax.Hub.Config({SVG: {font: \"STIX-Web\"}});}</script>                <script type=\"text/javascript\">window.PlotlyConfig = {MathJaxConfig: 'local'};</script>\n",
       "        <script charset=\"utf-8\" src=\"https://cdn.plot.ly/plotly-2.35.2.min.js\"></script>                <div id=\"4ffc0c11-a65c-43e5-a9ac-110379417f79\" class=\"plotly-graph-div\" style=\"height:525px; width:100%;\"></div>            <script type=\"text/javascript\">                                    window.PLOTLYENV=window.PLOTLYENV || {};                                    if (document.getElementById(\"4ffc0c11-a65c-43e5-a9ac-110379417f79\")) {                    Plotly.newPlot(                        \"4ffc0c11-a65c-43e5-a9ac-110379417f79\",                        [{\"domain\":{\"x\":[0.0,1.0],\"y\":[0.0,1.0]},\"hovertemplate\":\"\\u003cb\\u003e%{hovertext}\\u003c\\u002fb\\u003e\\u003cbr\\u003e\\u003cbr\\u003elabel=%{label}\\u003cbr\\u003evalue=%{value}\\u003cextra\\u003e\\u003c\\u002fextra\\u003e\",\"hovertext\":[\"Positive\",\"Negative\"],\"labels\":[\"Positive\",\"Negative\"],\"legendgroup\":\"\",\"name\":\"\",\"showlegend\":true,\"values\":[800000,800000],\"type\":\"pie\"}],                        {\"template\":{\"data\":{\"barpolar\":[{\"marker\":{\"line\":{\"color\":\"white\",\"width\":0.5},\"pattern\":{\"fillmode\":\"overlay\",\"size\":10,\"solidity\":0.2}},\"type\":\"barpolar\"}],\"bar\":[{\"error_x\":{\"color\":\"rgb(36,36,36)\"},\"error_y\":{\"color\":\"rgb(36,36,36)\"},\"marker\":{\"line\":{\"color\":\"white\",\"width\":0.5},\"pattern\":{\"fillmode\":\"overlay\",\"size\":10,\"solidity\":0.2}},\"type\":\"bar\"}],\"carpet\":[{\"aaxis\":{\"endlinecolor\":\"rgb(36,36,36)\",\"gridcolor\":\"white\",\"linecolor\":\"white\",\"minorgridcolor\":\"white\",\"startlinecolor\":\"rgb(36,36,36)\"},\"baxis\":{\"endlinecolor\":\"rgb(36,36,36)\",\"gridcolor\":\"white\",\"linecolor\":\"white\",\"minorgridcolor\":\"white\",\"startlinecolor\":\"rgb(36,36,36)\"},\"type\":\"carpet\"}],\"choropleth\":[{\"colorbar\":{\"outlinewidth\":1,\"tickcolor\":\"rgb(36,36,36)\",\"ticks\":\"outside\"},\"type\":\"choropleth\"}],\"contourcarpet\":[{\"colorbar\":{\"outlinewidth\":1,\"tickcolor\":\"rgb(36,36,36)\",\"ticks\":\"outside\"},\"type\":\"contourcarpet\"}],\"contour\":[{\"colorbar\":{\"outlinewidth\":1,\"tickcolor\":\"rgb(36,36,36)\",\"ticks\":\"outside\"},\"colorscale\":[[0.0,\"#440154\"],[0.1111111111111111,\"#482878\"],[0.2222222222222222,\"#3e4989\"],[0.3333333333333333,\"#31688e\"],[0.4444444444444444,\"#26828e\"],[0.5555555555555556,\"#1f9e89\"],[0.6666666666666666,\"#35b779\"],[0.7777777777777778,\"#6ece58\"],[0.8888888888888888,\"#b5de2b\"],[1.0,\"#fde725\"]],\"type\":\"contour\"}],\"heatmapgl\":[{\"colorbar\":{\"outlinewidth\":1,\"tickcolor\":\"rgb(36,36,36)\",\"ticks\":\"outside\"},\"colorscale\":[[0.0,\"#440154\"],[0.1111111111111111,\"#482878\"],[0.2222222222222222,\"#3e4989\"],[0.3333333333333333,\"#31688e\"],[0.4444444444444444,\"#26828e\"],[0.5555555555555556,\"#1f9e89\"],[0.6666666666666666,\"#35b779\"],[0.7777777777777778,\"#6ece58\"],[0.8888888888888888,\"#b5de2b\"],[1.0,\"#fde725\"]],\"type\":\"heatmapgl\"}],\"heatmap\":[{\"colorbar\":{\"outlinewidth\":1,\"tickcolor\":\"rgb(36,36,36)\",\"ticks\":\"outside\"},\"colorscale\":[[0.0,\"#440154\"],[0.1111111111111111,\"#482878\"],[0.2222222222222222,\"#3e4989\"],[0.3333333333333333,\"#31688e\"],[0.4444444444444444,\"#26828e\"],[0.5555555555555556,\"#1f9e89\"],[0.6666666666666666,\"#35b779\"],[0.7777777777777778,\"#6ece58\"],[0.8888888888888888,\"#b5de2b\"],[1.0,\"#fde725\"]],\"type\":\"heatmap\"}],\"histogram2dcontour\":[{\"colorbar\":{\"outlinewidth\":1,\"tickcolor\":\"rgb(36,36,36)\",\"ticks\":\"outside\"},\"colorscale\":[[0.0,\"#440154\"],[0.1111111111111111,\"#482878\"],[0.2222222222222222,\"#3e4989\"],[0.3333333333333333,\"#31688e\"],[0.4444444444444444,\"#26828e\"],[0.5555555555555556,\"#1f9e89\"],[0.6666666666666666,\"#35b779\"],[0.7777777777777778,\"#6ece58\"],[0.8888888888888888,\"#b5de2b\"],[1.0,\"#fde725\"]],\"type\":\"histogram2dcontour\"}],\"histogram2d\":[{\"colorbar\":{\"outlinewidth\":1,\"tickcolor\":\"rgb(36,36,36)\",\"ticks\":\"outside\"},\"colorscale\":[[0.0,\"#440154\"],[0.1111111111111111,\"#482878\"],[0.2222222222222222,\"#3e4989\"],[0.3333333333333333,\"#31688e\"],[0.4444444444444444,\"#26828e\"],[0.5555555555555556,\"#1f9e89\"],[0.6666666666666666,\"#35b779\"],[0.7777777777777778,\"#6ece58\"],[0.8888888888888888,\"#b5de2b\"],[1.0,\"#fde725\"]],\"type\":\"histogram2d\"}],\"histogram\":[{\"marker\":{\"line\":{\"color\":\"white\",\"width\":0.6}},\"type\":\"histogram\"}],\"mesh3d\":[{\"colorbar\":{\"outlinewidth\":1,\"tickcolor\":\"rgb(36,36,36)\",\"ticks\":\"outside\"},\"type\":\"mesh3d\"}],\"parcoords\":[{\"line\":{\"colorbar\":{\"outlinewidth\":1,\"tickcolor\":\"rgb(36,36,36)\",\"ticks\":\"outside\"}},\"type\":\"parcoords\"}],\"pie\":[{\"automargin\":true,\"type\":\"pie\"}],\"scatter3d\":[{\"line\":{\"colorbar\":{\"outlinewidth\":1,\"tickcolor\":\"rgb(36,36,36)\",\"ticks\":\"outside\"}},\"marker\":{\"colorbar\":{\"outlinewidth\":1,\"tickcolor\":\"rgb(36,36,36)\",\"ticks\":\"outside\"}},\"type\":\"scatter3d\"}],\"scattercarpet\":[{\"marker\":{\"colorbar\":{\"outlinewidth\":1,\"tickcolor\":\"rgb(36,36,36)\",\"ticks\":\"outside\"}},\"type\":\"scattercarpet\"}],\"scattergeo\":[{\"marker\":{\"colorbar\":{\"outlinewidth\":1,\"tickcolor\":\"rgb(36,36,36)\",\"ticks\":\"outside\"}},\"type\":\"scattergeo\"}],\"scattergl\":[{\"marker\":{\"colorbar\":{\"outlinewidth\":1,\"tickcolor\":\"rgb(36,36,36)\",\"ticks\":\"outside\"}},\"type\":\"scattergl\"}],\"scattermapbox\":[{\"marker\":{\"colorbar\":{\"outlinewidth\":1,\"tickcolor\":\"rgb(36,36,36)\",\"ticks\":\"outside\"}},\"type\":\"scattermapbox\"}],\"scatterpolargl\":[{\"marker\":{\"colorbar\":{\"outlinewidth\":1,\"tickcolor\":\"rgb(36,36,36)\",\"ticks\":\"outside\"}},\"type\":\"scatterpolargl\"}],\"scatterpolar\":[{\"marker\":{\"colorbar\":{\"outlinewidth\":1,\"tickcolor\":\"rgb(36,36,36)\",\"ticks\":\"outside\"}},\"type\":\"scatterpolar\"}],\"scatter\":[{\"fillpattern\":{\"fillmode\":\"overlay\",\"size\":10,\"solidity\":0.2},\"type\":\"scatter\"}],\"scatterternary\":[{\"marker\":{\"colorbar\":{\"outlinewidth\":1,\"tickcolor\":\"rgb(36,36,36)\",\"ticks\":\"outside\"}},\"type\":\"scatterternary\"}],\"surface\":[{\"colorbar\":{\"outlinewidth\":1,\"tickcolor\":\"rgb(36,36,36)\",\"ticks\":\"outside\"},\"colorscale\":[[0.0,\"#440154\"],[0.1111111111111111,\"#482878\"],[0.2222222222222222,\"#3e4989\"],[0.3333333333333333,\"#31688e\"],[0.4444444444444444,\"#26828e\"],[0.5555555555555556,\"#1f9e89\"],[0.6666666666666666,\"#35b779\"],[0.7777777777777778,\"#6ece58\"],[0.8888888888888888,\"#b5de2b\"],[1.0,\"#fde725\"]],\"type\":\"surface\"}],\"table\":[{\"cells\":{\"fill\":{\"color\":\"rgb(237,237,237)\"},\"line\":{\"color\":\"white\"}},\"header\":{\"fill\":{\"color\":\"rgb(217,217,217)\"},\"line\":{\"color\":\"white\"}},\"type\":\"table\"}]},\"layout\":{\"annotationdefaults\":{\"arrowhead\":0,\"arrowwidth\":1},\"autotypenumbers\":\"strict\",\"coloraxis\":{\"colorbar\":{\"outlinewidth\":1,\"tickcolor\":\"rgb(36,36,36)\",\"ticks\":\"outside\"}},\"colorscale\":{\"diverging\":[[0.0,\"rgb(103,0,31)\"],[0.1,\"rgb(178,24,43)\"],[0.2,\"rgb(214,96,77)\"],[0.3,\"rgb(244,165,130)\"],[0.4,\"rgb(253,219,199)\"],[0.5,\"rgb(247,247,247)\"],[0.6,\"rgb(209,229,240)\"],[0.7,\"rgb(146,197,222)\"],[0.8,\"rgb(67,147,195)\"],[0.9,\"rgb(33,102,172)\"],[1.0,\"rgb(5,48,97)\"]],\"sequential\":[[0.0,\"#440154\"],[0.1111111111111111,\"#482878\"],[0.2222222222222222,\"#3e4989\"],[0.3333333333333333,\"#31688e\"],[0.4444444444444444,\"#26828e\"],[0.5555555555555556,\"#1f9e89\"],[0.6666666666666666,\"#35b779\"],[0.7777777777777778,\"#6ece58\"],[0.8888888888888888,\"#b5de2b\"],[1.0,\"#fde725\"]],\"sequentialminus\":[[0.0,\"#440154\"],[0.1111111111111111,\"#482878\"],[0.2222222222222222,\"#3e4989\"],[0.3333333333333333,\"#31688e\"],[0.4444444444444444,\"#26828e\"],[0.5555555555555556,\"#1f9e89\"],[0.6666666666666666,\"#35b779\"],[0.7777777777777778,\"#6ece58\"],[0.8888888888888888,\"#b5de2b\"],[1.0,\"#fde725\"]]},\"colorway\":[\"#1F77B4\",\"#FF7F0E\",\"#2CA02C\",\"#D62728\",\"#9467BD\",\"#8C564B\",\"#E377C2\",\"#7F7F7F\",\"#BCBD22\",\"#17BECF\"],\"font\":{\"color\":\"rgb(36,36,36)\"},\"geo\":{\"bgcolor\":\"white\",\"lakecolor\":\"white\",\"landcolor\":\"white\",\"showlakes\":true,\"showland\":true,\"subunitcolor\":\"white\"},\"hoverlabel\":{\"align\":\"left\"},\"hovermode\":\"closest\",\"mapbox\":{\"style\":\"light\"},\"paper_bgcolor\":\"white\",\"plot_bgcolor\":\"white\",\"polar\":{\"angularaxis\":{\"gridcolor\":\"rgb(232,232,232)\",\"linecolor\":\"rgb(36,36,36)\",\"showgrid\":false,\"showline\":true,\"ticks\":\"outside\"},\"bgcolor\":\"white\",\"radialaxis\":{\"gridcolor\":\"rgb(232,232,232)\",\"linecolor\":\"rgb(36,36,36)\",\"showgrid\":false,\"showline\":true,\"ticks\":\"outside\"}},\"scene\":{\"xaxis\":{\"backgroundcolor\":\"white\",\"gridcolor\":\"rgb(232,232,232)\",\"gridwidth\":2,\"linecolor\":\"rgb(36,36,36)\",\"showbackground\":true,\"showgrid\":false,\"showline\":true,\"ticks\":\"outside\",\"zeroline\":false,\"zerolinecolor\":\"rgb(36,36,36)\"},\"yaxis\":{\"backgroundcolor\":\"white\",\"gridcolor\":\"rgb(232,232,232)\",\"gridwidth\":2,\"linecolor\":\"rgb(36,36,36)\",\"showbackground\":true,\"showgrid\":false,\"showline\":true,\"ticks\":\"outside\",\"zeroline\":false,\"zerolinecolor\":\"rgb(36,36,36)\"},\"zaxis\":{\"backgroundcolor\":\"white\",\"gridcolor\":\"rgb(232,232,232)\",\"gridwidth\":2,\"linecolor\":\"rgb(36,36,36)\",\"showbackground\":true,\"showgrid\":false,\"showline\":true,\"ticks\":\"outside\",\"zeroline\":false,\"zerolinecolor\":\"rgb(36,36,36)\"}},\"shapedefaults\":{\"fillcolor\":\"black\",\"line\":{\"width\":0},\"opacity\":0.3},\"ternary\":{\"aaxis\":{\"gridcolor\":\"rgb(232,232,232)\",\"linecolor\":\"rgb(36,36,36)\",\"showgrid\":false,\"showline\":true,\"ticks\":\"outside\"},\"baxis\":{\"gridcolor\":\"rgb(232,232,232)\",\"linecolor\":\"rgb(36,36,36)\",\"showgrid\":false,\"showline\":true,\"ticks\":\"outside\"},\"bgcolor\":\"white\",\"caxis\":{\"gridcolor\":\"rgb(232,232,232)\",\"linecolor\":\"rgb(36,36,36)\",\"showgrid\":false,\"showline\":true,\"ticks\":\"outside\"}},\"title\":{\"x\":0.05},\"xaxis\":{\"automargin\":true,\"gridcolor\":\"rgb(232,232,232)\",\"linecolor\":\"rgb(36,36,36)\",\"showgrid\":false,\"showline\":true,\"ticks\":\"outside\",\"title\":{\"standoff\":15},\"zeroline\":false,\"zerolinecolor\":\"rgb(36,36,36)\"},\"yaxis\":{\"automargin\":true,\"gridcolor\":\"rgb(232,232,232)\",\"linecolor\":\"rgb(36,36,36)\",\"showgrid\":false,\"showline\":true,\"ticks\":\"outside\",\"title\":{\"standoff\":15},\"zeroline\":false,\"zerolinecolor\":\"rgb(36,36,36)\"}}},\"legend\":{\"tracegroupgap\":0},\"title\":{\"text\":\"Sentiment Distribution\"}},                        {\"responsive\": true}                    ).then(function(){\n",
       "                            \n",
       "var gd = document.getElementById('4ffc0c11-a65c-43e5-a9ac-110379417f79');\n",
       "var x = new MutationObserver(function (mutations, observer) {{\n",
       "        var display = window.getComputedStyle(gd).display;\n",
       "        if (!display || display === 'none') {{\n",
       "            console.log([gd, 'removed!']);\n",
       "            Plotly.purge(gd);\n",
       "            observer.disconnect();\n",
       "        }}\n",
       "}});\n",
       "\n",
       "// Listen for the removal of the full notebook cells\n",
       "var notebookContainer = gd.closest('#notebook-container');\n",
       "if (notebookContainer) {{\n",
       "    x.observe(notebookContainer, {childList: true});\n",
       "}}\n",
       "\n",
       "// Listen for the clearing of the current output cell\n",
       "var outputEl = gd.closest('.output');\n",
       "if (outputEl) {{\n",
       "    x.observe(outputEl, {childList: true});\n",
       "}}\n",
       "\n",
       "                        })                };                            </script>        </div>\n",
       "</body>\n",
       "</html>"
      ]
     },
     "metadata": {},
     "output_type": "display_data"
    }
   ],
   "source": [
    "negative = df['labels'].value_counts()[0]\n",
    "positive = df['labels'].value_counts()[1]\n",
    "\n",
    "fig = px.pie(values=[positive, negative], title='Sentiment Distribution', names=['Positive', 'Negative'], hover_name=['Positive', 'Negative'], template='simple_white')\n",
    "fig.show()"
   ]
  },
  {
   "cell_type": "code",
   "execution_count": null,
   "metadata": {
    "colab": {
     "base_uri": "https://localhost:8080/",
     "height": 542
    },
    "executionInfo": {
     "elapsed": 32002,
     "status": "ok",
     "timestamp": 1754321581740,
     "user": {
      "displayName": "Aditya Singh",
      "userId": "15506429532817654179"
     },
     "user_tz": -330
    },
    "id": "GXbe05Ern6nO",
    "outputId": "d46402fd-6266-4bef-dfc9-9be5f279a589"
   },
   "outputs": [
    {
     "data": {
      "text/html": [
       "<html>\n",
       "<head><meta charset=\"utf-8\" /></head>\n",
       "<body>\n",
       "    <div>            <script src=\"https://cdnjs.cloudflare.com/ajax/libs/mathjax/2.7.5/MathJax.js?config=TeX-AMS-MML_SVG\"></script><script type=\"text/javascript\">if (window.MathJax && window.MathJax.Hub && window.MathJax.Hub.Config) {window.MathJax.Hub.Config({SVG: {font: \"STIX-Web\"}});}</script>                <script type=\"text/javascript\">window.PlotlyConfig = {MathJaxConfig: 'local'};</script>\n",
       "        <script charset=\"utf-8\" src=\"https://cdn.plot.ly/plotly-2.35.2.min.js\"></script>                <div id=\"e4093bc2-4a99-4bb2-95ef-7b29941a5932\" class=\"plotly-graph-div\" style=\"height:525px; width:100%;\"></div>            <script type=\"text/javascript\">                                    window.PLOTLYENV=window.PLOTLYENV || {};                                    if (document.getElementById(\"e4093bc2-4a99-4bb2-95ef-7b29941a5932\")) {                    Plotly.newPlot(                        \"e4093bc2-4a99-4bb2-95ef-7b29941a5932\",                        [{\"legendgroup\":\"Positive\",\"marker\":{\"color\":\"rgb(31, 119, 180)\"},\"mode\":\"lines\",\"name\":\"Positive\",\"showlegend\":true,\"x\":[1.0,1.216,1.432,1.6480000000000001,1.8639999999999999,2.08,2.2960000000000003,2.512,2.7279999999999998,2.944,3.16,3.376,3.592,3.808,4.024,4.24,4.4559999999999995,4.672000000000001,4.888,5.104,5.32,5.536,5.752,5.968,6.184,6.4,6.616,6.832,7.048,7.264,7.48,7.696,7.912,8.128,8.344000000000001,8.559999999999999,8.776,8.992,9.208,9.424,9.64,9.856,10.072,10.288,10.504,10.72,10.936,11.152,11.368,11.584,11.8,12.016,12.232,12.448,12.664,12.88,13.096,13.312,13.528,13.744,13.96,14.176,14.392,14.608,14.824,15.04,15.256,15.472,15.688,15.904,16.119999999999997,16.336,16.552,16.768,16.984,17.2,17.416,17.632,17.848,18.064,18.28,18.496,18.712,18.928,19.144,19.36,19.576,19.792,20.008,20.224,20.44,20.656,20.872,21.088,21.304,21.52,21.736,21.952,22.168,22.384,22.6,22.816,23.032,23.248,23.464,23.68,23.896,24.112,24.328,24.544,24.76,24.976,25.192,25.408,25.624,25.84,26.056,26.272,26.488,26.704,26.92,27.136,27.352,27.568,27.784,28.0,28.216,28.432,28.648,28.864,29.08,29.296,29.512,29.728,29.944,30.16,30.376,30.592,30.808,31.024,31.24,31.456,31.672,31.888,32.104,32.32,32.536,32.751999999999995,32.968,33.184,33.4,33.616,33.832,34.048,34.264,34.48,34.696,34.912,35.128,35.344,35.56,35.776,35.992,36.208,36.424,36.64,36.856,37.072,37.288,37.504,37.72,37.936,38.152,38.368,38.584,38.8,39.016,39.232,39.448,39.664,39.88,40.096,40.312,40.528,40.744,40.96,41.176,41.392,41.608,41.824,42.04,42.256,42.472,42.688,42.904,43.12,43.336,43.552,43.768,43.984,44.2,44.416,44.632,44.848,45.064,45.28,45.496,45.712,45.928,46.144,46.36,46.576,46.792,47.008,47.224,47.44,47.656,47.872,48.088,48.304,48.52,48.736,48.952,49.168,49.384,49.6,49.816,50.032,50.248,50.464,50.68,50.896,51.112,51.328,51.544,51.76,51.976,52.192,52.408,52.624,52.84,53.056,53.272,53.488,53.704,53.92,54.136,54.352,54.568,54.784,55.0,55.216,55.432,55.648,55.864,56.08,56.296,56.512,56.728,56.944,57.16,57.376,57.592,57.808,58.024,58.24,58.456,58.672,58.888,59.104,59.32,59.536,59.752,59.968,60.184,60.4,60.616,60.832,61.048,61.264,61.48,61.696,61.912,62.128,62.344,62.56,62.776,62.992,63.208,63.424,63.64,63.856,64.072,64.288,64.50399999999999,64.72,64.936,65.152,65.368,65.584,65.8,66.016,66.232,66.448,66.664,66.88,67.096,67.312,67.528,67.744,67.96,68.176,68.392,68.608,68.824,69.04,69.256,69.472,69.688,69.904,70.12,70.336,70.552,70.768,70.984,71.2,71.416,71.632,71.848,72.064,72.28,72.496,72.712,72.928,73.144,73.36,73.576,73.792,74.008,74.224,74.44,74.656,74.872,75.088,75.304,75.52,75.736,75.952,76.168,76.384,76.6,76.816,77.032,77.248,77.464,77.68,77.896,78.112,78.328,78.544,78.76,78.976,79.192,79.408,79.624,79.84,80.056,80.272,80.488,80.704,80.92,81.136,81.352,81.568,81.784,82.0,82.216,82.432,82.648,82.864,83.08,83.296,83.512,83.728,83.944,84.16,84.376,84.592,84.808,85.024,85.24,85.456,85.672,85.888,86.104,86.32,86.536,86.752,86.968,87.184,87.4,87.616,87.832,88.048,88.264,88.48,88.696,88.912,89.128,89.344,89.56,89.776,89.992,90.208,90.424,90.64,90.856,91.072,91.288,91.504,91.72,91.936,92.152,92.368,92.584,92.8,93.016,93.232,93.448,93.664,93.88,94.096,94.312,94.528,94.744,94.96,95.176,95.392,95.608,95.824,96.04,96.256,96.472,96.688,96.904,97.12,97.336,97.552,97.768,97.984,98.2,98.416,98.632,98.848,99.064,99.28,99.496,99.712,99.928,100.144,100.36,100.576,100.792,101.008,101.224,101.44,101.656,101.872,102.088,102.304,102.52,102.736,102.952,103.168,103.384,103.6,103.816,104.032,104.248,104.464,104.68,104.896,105.112,105.328,105.544,105.76,105.976,106.192,106.408,106.624,106.84,107.056,107.272,107.488,107.704,107.92,108.136,108.352,108.568,108.784],\"xaxis\":\"x\",\"y\":[0.048647176578136775,0.03824932623188613,0.0280065630316251,0.048555141136480774,0.0877614751919321,0.09477789053951981,0.06194565252715836,0.04587675905772704,0.07891627909118469,0.11801549232231598,0.10365819508979242,0.0606371910663884,0.05876339841164807,0.10443143587219489,0.1290747539381453,0.09340502131547254,0.05531993497843328,0.0736631225787845,0.12083458385688454,0.12203179159847417,0.07501958187195218,0.05332740387016281,0.08746060136564184,0.12281819991626014,0.10132694721038343,0.05705839682007841,0.05656436566251693,0.09699074548451048,0.11267195786257095,0.07700509670837152,0.045849506921215484,0.0634599674045018,0.09929178913148534,0.09426276012413531,0.05569197796639409,0.042694662401942814,0.07168912913827721,0.0952624917112326,0.07415505029389528,0.04201936702327232,0.047293788428095146,0.08016164338557005,0.08772052775184142,0.056939259905525154,0.03542670657537247,0.05236331184203155,0.07828947148569018,0.06991821705059362,0.03999388831747205,0.03345951178249209,0.05682433381343182,0.07130555010363149,0.05230071696965703,0.02929829996804754,0.03471096436478442,0.05662115210621373,0.05823237039088763,0.035867903824693285,0.022928237328227314,0.03472834717150532,0.04923263275132272,0.04129478019309223,0.022543947418345835,0.019040572358411726,0.03127328763119768,0.03688464949454891,0.02541239071863086,0.013645734007575622,0.015827013537086963,0.024413403728703334,0.023548820929998878,0.013629664849241184,0.00832057782956927,0.012006504792282078,0.015983500984431995,0.012578415947134413,0.006524171050120866,0.005438818695127062,0.008541115927237023,0.009458380583330825,0.0061248835477249585,0.0031721824146495924,0.0036309978178381,0.005302132507947566,0.004799532846992119,0.0026286715145560635,0.0016039553683745633,0.002284905289405955,0.0028683802218926373,0.0021204839473258786,0.0010567040690522061,0.00089961185720595,0.0013646774370329481,0.0014208825566398987,0.0008716180368048148,0.0004670938894418183,0.0005824926527445766,0.0008183208169005639,0.0006968336929107921,0.00036726058854396097,0.00024497159424804625,0.00036260940182872514,0.00043151031189701594,0.0003005224932578946,0.0001480393744191544,0.00013812965847916637,0.00020584547688423175,0.0002019637916463804,0.00011897703808253583,0.00007232872858252389,0.0001042641050387167,0.00014144198331443044,0.00011370707379784326,0.00006014966171381395,0.00005087229693222409,0.00008141970581605103,0.00009214198190777973,0.0000612161698529683,0.00003365822951522368,0.00004190976237425492,0.00006328931750821713,0.00005903019924179231,0.00003639456076826853,0.000036045995123868,0.00006728859078851046,0.00008847906336421557,0.00006661761599713984,0.0000318408971885215,0.000021776858045200944,0.00003070416022305366,0.00003241282994915966,0.00002047862815084794,0.000012040210964394547,0.000016757159098121358,0.000024387220724240198,0.00002133845999075902,0.000012187933281600912,0.000010831330133916984,0.000018634721852942466,0.000022970656850261518,0.000016660717226334337,0.000010099849172371996,0.000013946962077000072,0.000023023952175347442,0.000023238522183421212,0.000014079867661901606,9.118217134618203e-6,0.000013924022947583801,0.00001939827659754776,0.000016066295779356467,9.526280647154845e-6,0.000010907114114854231,0.000019487218643517935,0.000022664571326076772,0.00001500782234059527,6.386922143971033e-6,4.069328155744689e-6,5.1744281797368075e-6,4.833299491847577e-6,2.87972650982411e-6,2.315436427331469e-6,3.989758301614757e-6,5.318560227644669e-6,4.177940788972705e-6,2.5986294745001327e-6,3.540585469478999e-6,6.257294729199807e-6,6.865355501335218e-6,4.420084295466969e-6,2.569715061949541e-6,3.514415952916848e-6,5.195203741684396e-6,4.6237780859555325e-6,2.555162181753887e-6,1.817789038184052e-6,2.844790089217113e-6,3.546441174072798e-6,2.6518042427971534e-6,1.7876772509112396e-6,2.8328962472086997e-6,4.8697452787125405e-6,5.033539153908115e-6,3.1500571826612693e-6,2.2331919596357328e-6,3.677485131285654e-6,5.263036851534964e-6,4.3883761170980905e-6,2.19549085940644e-6,1.195722293115612e-6,1.5301101371461433e-6,1.7706212982123643e-6,1.3359205117252308e-6,1.3594518894886933e-6,2.9684748122582313e-6,5.013454674069298e-6,4.882142108018462e-6,2.944143451294502e-6,2.2894007213740443e-6,3.911495794273572e-6,5.30125318048883e-6,4.123128933187896e-6,1.790110554258071e-6,4.330334367458367e-7,5.835757072412302e-8,4.381305574522208e-9,1.8324840670274976e-10,4.269796513410283e-12,5.5424841021395294e-14,4.008039940229693e-16,1.6146928863758605e-18,3.624102331609427e-21,1.8170567763000323e-22,9.388437319451152e-20,2.771502753011491e-17,4.5579298720580895e-15,4.175901731419543e-13,2.1313913955561734e-11,6.060472054111283e-10,9.600193892858662e-9,8.471959339049815e-8,4.1650289815375086e-7,1.140729044556476e-6,1.740513026031734e-6,1.4794570560297896e-6,7.005801692390434e-7,1.8482578754116007e-7,2.7430998376864703e-8,7.1854757104218625e-9,5.1057713551856964e-8,2.915456486227745e-7,9.292894680492754e-7,1.6509120663257366e-6,1.6448708967945461e-6,1.003624121452401e-6,7.556639199208426e-7,1.2778364213844144e-6,1.763972332825639e-6,1.4016882090369238e-6,6.218818849846814e-7,1.5374243928601982e-7,2.155411852836002e-8,8.239855301005499e-9,6.373598880514296e-8,3.413403603812452e-7,1.0195064438078036e-6,1.6963860748873687e-6,1.5724966848435434e-6,8.120543274091483e-7,2.336203866004281e-7,3.744266034172994e-8,3.34312769223056e-9,1.6629130381702652e-10,4.608041892054857e-12,7.113668214387321e-14,6.1178820433172e-16,2.9311557765388122e-18,7.823606643946987e-21,1.163336677623398e-23,9.636828747368516e-27,4.4472666397725106e-30,1.1433587055860525e-33,1.6376092803557031e-37,4.2000124756394016e-38,3.1969494083289873e-34,1.356083351047659e-30,3.2045519115178346e-27,4.218699050142714e-24,3.093998407491063e-21,1.264130568227406e-18,2.8773592411246365e-16,3.6486024737405913e-14,2.5774444611449777e-12,1.014337286522437e-10,2.2238514380835637e-9,2.7161857044894628e-8,1.8481765423291722e-7,7.005800323135315e-7,1.4794570547455921e-6,1.7405130260250242e-6,1.140729044556487e-6,4.165028981537508e-7,8.471959339049815e-8,9.600193892858662e-9,6.060472054111283e-10,2.1313913955561734e-11,4.1759017314202036e-13,4.5579298720580895e-15,2.7715027530114092e-17,9.388437109047058e-20,1.786849930700637e-22,1.2081582897548877e-21,5.382309621978987e-19,1.3360133134098174e-16,1.8474947007115136e-14,1.4232655044506538e-12,6.108280222186881e-11,1.4604351870654772e-9,1.9452522686909378e-8,1.443443800631411e-7,5.966973862735944e-7,1.374164415430872e-6,1.7630050953238584e-6,1.2600818190176113e-6,5.017352903600518e-7,1.1132049822839093e-7,1.4431971549278571e-8,1.146251950973203e-8,9.084568766077891e-8,4.368734234445058e-7,1.1708717857787933e-6,1.7482121226791266e-6,1.4541500548140853e-6,6.738366480261683e-7,1.739523648807406e-7,2.5017064837807993e-8,2.0043459259689345e-9,8.946214521608377e-11,2.224519642541922e-12,3.08150934186236e-14,2.3780503146203617e-16,1.0223718812248366e-18,2.4486519567303668e-21,3.2671985753450714e-24,2.4285906568550355e-27,1.3074653642827719e-30,7.94725673727894e-28,1.1659456152511456e-24,9.529492605112592e-22,4.339019161078735e-19,1.1006358771936239e-16,1.5553426076350997e-14,1.2244435848824748e-12,5.37009288648606e-11,1.3120643094532689e-9,1.7859066445280892e-8,1.3542308121233513e-7,5.720802243747285e-7,1.34632988660647e-6,1.7651285708406543e-6,1.2892332846526642e-6,5.245863439226361e-7,1.1891393728952514e-7,1.5016850043305836e-8,1.0564652965923105e-9,4.1405871890155647e-11,9.040635074054183e-13,1.0996817621294473e-14,8.122825978371726e-17,1.284478818588699e-15,1.3692551252763082e-13,8.13330824248978e-12,2.691413317860953e-10,4.961624222047584e-9,5.0956272073018406e-8,2.915424058055556e-7,9.292576080592051e-7,1.6500641335485166e-6,1.6322844005518163e-6,8.995414154645578e-7,2.761731503929447e-7,4.734978105154847e-8,6.966104907868263e-9,2.970577776520276e-8,1.9621115291083605e-7,7.278006416612992e-7,1.5039970500090658e-6,1.7314577964268162e-6,1.1104707999066726e-6,3.9676438627652353e-7,7.897479898493269e-8,8.757389825576005e-9,5.409923726729651e-10,1.861820932262463e-11,3.569562430690744e-13,3.81260981993052e-15,2.268611080371063e-17,7.520176652371249e-20,1.3887572614759984e-22,1.4287457443053038e-25,8.188974169051709e-29,1.0773184679134836e-29,2.182226493272544e-26,2.4685455048982294e-23,1.555653095704716e-20,5.4615345387521594e-18,1.06818608972317e-15,1.163883358408163e-13,7.06483959361483e-12,2.38905121272557e-10,4.500688131548091e-9,4.723486598988889e-8,2.7617016642695615e-7,8.995413722986321e-7,1.6322844002052092e-6,1.6500641338346907e-6,9.292576445452259e-7,2.9154498325001676e-7,5.1057705801670635e-8,7.185475660131147e-9,2.7430998376682902e-8,1.8482578754117084e-7,7.005801692390163e-7,1.4794570560297644e-6,1.7405130260317423e-6,1.1407290445565064e-6,4.165028981537307e-7,8.471959339050407e-8,9.600193892857776e-9,6.060472054111967e-10,2.131391395556461e-11,4.1759017314202036e-13,4.5579298720580895e-15,2.771502753010817e-17,9.388437003847077e-20,1.7717465079005113e-22,1.8626882761823974e-25,1.0909606431459143e-28,3.5596581495481135e-32,6.47049950848998e-36,6.5523582007845344e-40,3.696474891227471e-44,1.1617380038895346e-48,2.0340374254156416e-53,1.983993004212743e-58,1.4110894884628186e-59,1.647404535583929e-54,1.0715426120784578e-49,3.882835056718332e-45,7.838243383475315e-41,8.81492971286594e-37,5.5226722430918424e-33,1.9275692627672687e-29,3.748012423799651e-26,4.059965638770622e-23,2.450044660106912e-20,8.236751250820391e-18,1.5426528537787489e-15,1.609573339974622e-13,9.355858393965192e-12,3.0296106340553047e-10,5.465379202709435e-9,5.492677367985461e-8,3.0752341356115365e-7,9.591854677644589e-7,1.6666994826796316e-6,1.6134009846746351e-6,8.700769057717795e-7,2.613986088524587e-7,4.375011603662953e-8,4.079298194970326e-9,2.118956318379462e-10,6.131812429537723e-12,9.885212863753283e-14,8.877966391222099e-16,4.441925541142263e-18,1.238110363225595e-20,1.9225504716596285e-23,1.663130958447006e-26,8.015035541056665e-30,2.1518637218923166e-33,3.218506436694345e-37,2.6817871586202866e-41,1.2448715405579556e-45,3.21925276105231e-50,4.637841708900947e-55,3.7222631577321396e-60,1.6642881936559335e-65,4.1455322459544984e-71,5.752576061557139e-77,4.447078016513762e-83,1.915214556943978e-89,4.595051955828674e-96,6.146256137816316e-103,4.3505825161007044e-99,2.3517669433650016e-92,7.082253370098568e-86,1.1881709901228894e-79,1.1104953292517532e-73,5.782089830814727e-68,1.6771937668209968e-62,2.710266215924953e-57,2.439894062318194e-52,1.223658680681212e-47,3.418849060891307e-43,5.3214485345924276e-39,4.614345527223113e-35,2.2290543824088057e-31,5.998760500394105e-28,8.993581796187086e-25,7.511629543950231e-22,3.495150979436281e-19,9.059996431225106e-17,1.3083393974854898e-14,1.052550928695499e-12,4.7173285517088844e-11,1.1778213921068379e-9,1.638298590353288e-8,1.269512507487973e-7,5.480386869635423e-7,1.3180010523805464e-6],\"yaxis\":\"y\",\"type\":\"scatter\"},{\"legendgroup\":\"Negative\",\"marker\":{\"color\":\"rgb(255, 127, 14)\"},\"mode\":\"lines\",\"name\":\"Negative\",\"showlegend\":true,\"x\":[1.0,1.18,1.3599999999999999,1.54,1.72,1.9,2.08,2.26,2.44,2.62,2.8,2.98,3.16,3.34,3.52,3.7,3.88,4.0600000000000005,4.24,4.42,4.6,4.779999999999999,4.96,5.14,5.32,5.5,5.68,5.86,6.04,6.22,6.4,6.58,6.76,6.94,7.12,7.3,7.48,7.66,7.84,8.02,8.2,8.379999999999999,8.559999999999999,8.74,8.92,9.1,9.28,9.46,9.64,9.82,10.0,10.18,10.36,10.54,10.72,10.9,11.08,11.26,11.44,11.62,11.8,11.98,12.16,12.34,12.52,12.7,12.88,13.06,13.24,13.42,13.6,13.78,13.96,14.14,14.32,14.5,14.68,14.86,15.04,15.22,15.4,15.58,15.76,15.94,16.119999999999997,16.3,16.48,16.66,16.84,17.02,17.2,17.38,17.56,17.74,17.92,18.1,18.28,18.46,18.64,18.82,19.0,19.18,19.36,19.54,19.72,19.9,20.08,20.26,20.44,20.62,20.8,20.98,21.16,21.34,21.52,21.7,21.88,22.06,22.24,22.42,22.6,22.78,22.96,23.14,23.32,23.5,23.68,23.86,24.04,24.22,24.4,24.58,24.76,24.94,25.12,25.3,25.48,25.66,25.84,26.02,26.2,26.38,26.56,26.74,26.92,27.1,27.28,27.46,27.64,27.82,28.0,28.18,28.36,28.54,28.72,28.9,29.08,29.26,29.44,29.62,29.8,29.98,30.16,30.34,30.52,30.7,30.88,31.06,31.24,31.42,31.6,31.78,31.96,32.14,32.32,32.5,32.68,32.86,33.04,33.22,33.4,33.58,33.76,33.94,34.12,34.3,34.48,34.66,34.84,35.02,35.2,35.38,35.56,35.74,35.92,36.1,36.28,36.46,36.64,36.82,37.0,37.18,37.36,37.54,37.72,37.9,38.08,38.26,38.44,38.62,38.8,38.98,39.16,39.34,39.52,39.7,39.88,40.06,40.24,40.42,40.6,40.78,40.96,41.14,41.32,41.5,41.68,41.86,42.04,42.22,42.4,42.58,42.76,42.94,43.12,43.3,43.48,43.66,43.84,44.02,44.2,44.38,44.56,44.74,44.92,45.1,45.28,45.46,45.64,45.82,46.0,46.18,46.36,46.54,46.72,46.9,47.08,47.26,47.44,47.62,47.8,47.98,48.16,48.34,48.52,48.7,48.88,49.06,49.24,49.42,49.6,49.78,49.96,50.14,50.32,50.5,50.68,50.86,51.04,51.22,51.4,51.58,51.76,51.94,52.12,52.3,52.48,52.66,52.84,53.02,53.2,53.38,53.56,53.74,53.92,54.1,54.28,54.46,54.64,54.82,55.0,55.18,55.36,55.54,55.72,55.9,56.08,56.26,56.44,56.62,56.8,56.98,57.16,57.34,57.52,57.7,57.88,58.06,58.24,58.42,58.6,58.78,58.96,59.14,59.32,59.5,59.68,59.86,60.04,60.22,60.4,60.58,60.76,60.94,61.12,61.3,61.48,61.66,61.84,62.02,62.2,62.38,62.56,62.74,62.92,63.1,63.28,63.46,63.64,63.82,64.0,64.18,64.36,64.53999999999999,64.72,64.9,65.08,65.26,65.44,65.62,65.8,65.98,66.16,66.34,66.52,66.7,66.88,67.06,67.24,67.42,67.6,67.78,67.96,68.14,68.32,68.5,68.68,68.86,69.04,69.22,69.4,69.58,69.76,69.94,70.12,70.3,70.48,70.66,70.84,71.02,71.2,71.38,71.56,71.74,71.92,72.1,72.28,72.46,72.64,72.82,73.0,73.18,73.36,73.54,73.72,73.9,74.08,74.26,74.44,74.62,74.8,74.98,75.16,75.34,75.52,75.7,75.88,76.06,76.24,76.42,76.6,76.78,76.96,77.14,77.32,77.5,77.68,77.86,78.04,78.22,78.4,78.58,78.76,78.94,79.12,79.3,79.48,79.66,79.84,80.02,80.2,80.38,80.56,80.74,80.92,81.1,81.28,81.46,81.64,81.82,82.0,82.18,82.36,82.54,82.72,82.9,83.08,83.26,83.44,83.62,83.8,83.98,84.16,84.34,84.52,84.7,84.88,85.06,85.24,85.42,85.6,85.78,85.96,86.14,86.32,86.5,86.68,86.86,87.04,87.22,87.4,87.58,87.76,87.94,88.12,88.3,88.48,88.66,88.84,89.02,89.2,89.38,89.56,89.74,89.92,90.1,90.28,90.46,90.64,90.82],\"xaxis\":\"x\",\"y\":[0.03501912831923936,0.030069647880782095,0.022725361936161155,0.028015414403586052,0.050297139989696205,0.0737532580369214,0.0756963584286245,0.0559265627556322,0.040431661582867776,0.05185137635681795,0.08404193804396218,0.10485363017940795,0.09149308082992198,0.06100317615003507,0.05028386632215265,0.07412804414179992,0.10891289486032142,0.11576876088705063,0.08702140847364476,0.05681450732088603,0.059488145315545776,0.09261427474353162,0.11914622452076315,0.10785220516656052,0.07227011025074256,0.053463989971732365,0.07214270637745579,0.10761725374068587,0.11886646171730161,0.09230507977882667,0.05889774335471079,0.055312027525282075,0.08402431089905268,0.11163697731767254,0.10503832790819835,0.07164966224210775,0.04915939312210705,0.06053407326762139,0.09116466244074423,0.1045852757535353,0.08417813559231434,0.053506079467478276,0.04599151088545998,0.0678472527297873,0.09295415242029877,0.09101234632325185,0.06386363754932833,0.042329161277229854,0.04874999930623164,0.07423673227847703,0.08848507602415429,0.07399033256331937,0.04754480109251105,0.03838265541240548,0.05509799566878716,0.07778995757734329,0.07928424374090579,0.05741870375255406,0.037213979097931414,0.04003110130453694,0.06130415144110023,0.07584680476201165,0.06588307925663518,0.0427497487290623,0.03173047897443822,0.042873236802512024,0.0618680361584016,0.06556438481682343,0.04896244227982782,0.03070889448602152,0.029436177677969147,0.044139716667396266,0.05644335362330544,0.050925896544223165,0.03343585939238017,0.022510707770014217,0.02736835393715569,0.03979663062269506,0.0437738558618515,0.033741266680124705,0.020505821094986623,0.01679060412400451,0.023645419275966237,0.03100773951456779,0.029059331786364048,0.019437079674486005,0.012011381629734365,0.012686543412875652,0.018246885043116137,0.02078263026980547,0.01658809775906549,0.009969506281190633,0.007055866142823802,0.009049276368797373,0.012067067161707459,0.01174787642899173,0.008082396932460417,0.004776120418179324,0.004459534964380918,0.006296061566518658,0.007416267497187742,0.006148270279626384,0.003736653338508358,0.002408990313714255,0.0028246596404885044,0.0038160178966059723,0.0038587193336529326,0.0027397349408266464,0.0015698428204460023,0.0012776132765234811,0.0017286572368899814,0.0020966734379904966,0.0018081373738458343,0.0011288083521918076,0.0007022882443281379,0.000781384170082723,0.0010750196791979474,0.0011303476826094031,0.0008321634542866605,0.0004753308767425357,0.0003508385935229744,0.0004550385369064353,0.0005675323870232777,0.0005092166223446013,0.0003274504635529391,0.00019807261135176577,0.00020757958410618695,0.00028923673023735236,0.00031605784583277043,0.00024184174943685672,0.00013998347109827716,0.00009694344627358978,0.00012123013656413429,0.00015542863412123546,0.00014519517441136348,0.00009676210037125217,0.000058647680754237265,0.00005992417732449849,0.00008523565201200003,0.00009699698528575814,0.00007788409171726913,0.00004898733739659983,0.000040753768939142686,0.000058903443696443534,0.00008038777135636378,0.00007850509131610182,0.00005412694292374428,0.00003235444176303844,0.00003095017518342591,0.00004413347465740294,0.0000521044359230692,0.00004349631249118514,0.00002783366739777815,0.000022149227494144698,0.00003146015541531053,0.000044315869989212214,0.00004506010685746824,0.00003206329230914158,0.000018571545343569228,0.00001556282763426602,0.000021388856794961296,0.00002604737172006286,0.00002275361650399509,0.00001562292458158838,0.000014243670414403882,0.000022518062252646607,0.00003351256544860446,0.00003560804506500649,0.00002632363326454974,0.000015361883078616922,0.00001213895588943496,0.00001644961640671161,0.000020688884752311154,0.000018659073821681297,0.000012407301951013253,8.880436503821786e-6,0.000011580149498381342,0.000017135481528854924,0.000018892127558181274,0.000014571651918622358,8.879866462455113e-6,7.331436237215881e-6,0.000010376410586862209,0.000013615169441050174,0.000012727434000743233,8.32985040557399e-6,4.498717697285906e-6,3.607157199979255e-6,4.644656267937626e-6,5.203739463369774e-6,4.15199316001886e-6,2.5257449627572204e-6,1.873962475998213e-6,2.4980860633410724e-6,3.3627028553642545e-6,3.322443760161452e-6,2.5454398549642786e-6,2.4766491661699842e-6,4.267732855804048e-6,7.170442717434368e-6,8.651657817467804e-6,7.20078376899637e-6,4.4161378227875926e-6,2.9626070644970724e-6,3.624720783535071e-6,4.949331860145977e-6,5.034643494525358e-6,3.714336997813323e-6,2.6790237960806134e-6,3.425031783520589e-6,5.5457525323665515e-6,6.910739343743961e-6,5.974595105507294e-6,3.708667194717907e-6,2.235184721537501e-6,2.380509967934642e-6,3.2363480595553718e-6,3.412661594690815e-6,2.608229322692587e-6,1.8904192113851102e-6,2.3854417119058487e-6,3.9655881008960925e-6,5.147767610261754e-6,4.647012022649129e-6,3.0205208740691364e-6,1.930524096085044e-6,2.1940256278521172e-6,3.13275780203489e-6,3.440871696014596e-6,2.674192231082591e-6,1.7235046064529238e-6,1.6602946604391977e-6,2.553794490378743e-6,3.401921007404654e-6,3.2187128107191876e-6,2.2887390506862697e-6,1.89348551539134e-6,2.8449670373845738e-6,4.49286823438559e-6,5.177902348627835e-6,4.112794488617691e-6,2.353013158725751e-6,1.332652521120405e-6,1.3462668187436266e-6,1.6952269454281892e-6,1.6428330244979075e-6,1.1568265531984483e-6,7.869169343153096e-7,9.426697904133657e-7,1.4535292144802097e-6,1.7432974980896247e-6,1.5142113009210443e-6,1.2394790285816926e-6,1.7588130501643385e-6,3.31501080865307e-6,4.891694979310468e-6,4.995726030293017e-6,3.5189934651426065e-6,1.8876276450876355e-6,1.244633506108385e-6,1.4702978595111622e-6,1.7383159335604176e-6,1.4822721922525737e-6,8.637369736250566e-7,3.4170089215399033e-7,9.177096962188619e-8,1.763524995027335e-8,1.0740588140801902e-8,5.443487762355035e-8,2.3012621102113242e-7,6.619783624495107e-7,1.2920913732583605e-6,1.7148489473964682e-6,1.5759418570568557e-6,1.1510554738198593e-6,1.1583086474251958e-6,1.9775507200368513e-6,3.09019607766688e-6,3.421744861293128e-6,2.583487223305766e-6,1.3239147117837817e-6,4.6023114239140334e-7,1.085243904531648e-7,1.7358450189729643e-8,1.8833321717757284e-9,1.387080951906239e-10,1.0291167461615919e-11,7.38668789592089e-11,1.0906476534062196e-9,1.0957877846947093e-8,7.46796830158522e-8,3.452318190968438e-7,1.082568452642595e-6,2.3028703672355207e-6,3.3253805921765884e-6,3.278294676940473e-6,2.3130864952583783e-6,1.5737973359774043e-6,1.885178685222618e-6,2.904586338836901e-6,3.460663126864976e-6,2.843904248225274e-6,1.5883692731046456e-6,6.018962999271199e-7,1.5480783938179686e-7,2.820416081259609e-8,1.403595694939632e-8,6.519981183450098e-8,2.6380282231766217e-7,7.267868056979928e-7,1.3582783607333519e-6,1.7218791173110887e-6,1.4806362261590658e-6,8.636264076020921e-7,3.4169237455460204e-7,9.170151082739948e-8,1.6693581652008812e-8,2.061362594967386e-9,1.72659741887191e-10,9.809787826106345e-12,3.7805934355474694e-13,9.883598397303314e-15,2.268018778943613e-16,3.4567728946861712e-15,1.5703374347121825e-13,4.841854839816444e-12,1.0126571292825713e-10,1.4366299473806356e-9,1.382481221987594e-8,9.024131904696686e-8,3.9956163388613745e-7,1.2000427917553656e-6,2.4449247502355407e-6,3.3804398314815107e-6,3.1834423163399296e-6,2.105197373309643e-6,1.2100921611225029e-6,1.1176771715932318e-6,1.5310504555550228e-6,1.7286651754775145e-6,1.358897951387754e-6,7.268246660161903e-7,2.6379050635772683e-7,6.49439090022478e-8,1.0845550381576432e-8,1.2285627186527588e-9,9.44699576749447e-11,7.257349790718811e-12,5.3457918348916294e-11,8.240258708809882e-10,8.643956483330379e-9,6.150612482409641e-8,2.968632179357445e-7,9.719181338026473e-7,2.158561926677888e-6,3.253776201442271e-6,3.343881283669473e-6,2.4325021445864277e-6,1.610132312986992e-6,1.798803888140551e-6,2.7912363658644976e-6,3.4547161117713334e-6,2.9623630972732114e-6,1.727326564935367e-6,6.833915807007982e-7,1.834724280758026e-7,3.4328830491705115e-8,1.2801950160763889e-8,5.4607507158914e-8,2.301349140921408e-7,6.619512358444254e-7,1.2916277141781984e-6,1.7095469254721706e-6,1.5348167660972198e-6,9.346819887513504e-7,3.8610288247506544e-7,1.0818674253427766e-7,2.0562545480873595e-8,2.651011049769959e-9,2.3183448161952696e-10,1.3752332186551258e-11,5.533584017666013e-13,1.51031832982398e-14,2.7961618676642113e-16,3.511461855163109e-18,2.991199861561726e-20,1.728362121188223e-22,6.7741666765070785e-25,1.800979822763946e-27,3.247832677285436e-30,3.972924185282942e-33,3.296542952446863e-36,1.85540631620702e-39,7.083553091791257e-43,1.8344044981376404e-46,3.222336500201191e-50,3.8395338913358285e-54,3.1032584804141517e-58,1.701332612666181e-62,6.326919865665212e-67,1.595979363342333e-71,2.7308260668247145e-76,3.1695137391550117e-81,2.495301733818226e-86,1.332555569360481e-91,4.827023574155546e-97,1.186056400789549e-102,1.9768016464472642e-108,2.2350676103441468e-114,2.239851793153339e-112,1.7407656429188132e-106,9.176840095373346e-101,3.281541135708756e-95,7.95965733870079e-90,1.3096122287317956e-84,1.4615810456539444e-79,1.1064579499102981e-74,5.681705975473712e-70,1.9790393438640635e-65,4.675864652260907e-61,7.493785635270014e-57,8.146525672118443e-53,6.007246124867693e-49,3.0047632028727254e-45,1.019475771707637e-41,2.3462560022011991e-38,3.662736825870939e-35,3.878536331500146e-32,2.785876395983886e-29,1.3573368947570893e-26,4.485855659454916e-24,1.0056220028963578e-21,1.5291710577509746e-19,1.577281476013803e-17,1.1035554676227053e-15,5.237342326903927e-14,1.686007828655359e-12,3.6816291752290303e-11,5.453211346735286e-10,5.478938772237844e-9,3.733983507120294e-8,1.7261565248968462e-7,5.412772622727944e-7,1.1513072092314593e-6,1.66109509236038e-6,1.6256595394174446e-6,1.0791865629170819e-6,4.859541467000531e-7,1.4843143501818045e-7,3.07530582401356e-8,4.321978139877857e-9,4.1201084892258e-10,2.6641984329038815e-11,1.1685742597630185e-12,3.476785469248392e-14,7.016674053541811e-16,9.605424044030914e-18,8.919358339908305e-20,5.618010067883423e-22,2.4002873964960104e-24,6.956263989034624e-27,1.6922608012842806e-29,1.8009980573711196e-27,6.774166676668448e-25,1.728362121187805e-22,2.991199861560377e-20,3.511461855162372e-18,2.7961618676636847e-16,1.51031832982398e-14,5.533584017665158e-13,1.3752332186551258e-11,2.3183448161949938e-10,2.651011049769417e-9,2.056254548087186e-8,1.0818674253426319e-7,3.8610288247506523e-7,9.346819887512868e-7,1.5348167660930042e-6,1.709546925121679e-6,1.2916276944121011e-6,6.619504797257714e-7,2.3011529451651288e-7,5.4262187674833786e-8,8.679224939284715e-9,9.416649805765617e-10,6.930167415709576e-11,3.459575902066938e-12,1.1714772731379998e-13,2.6920296431960027e-15,1.512351764087379e-16,6.436720229333612e-15,2.5705872677019876e-13,6.964048479686165e-12,1.279743862716275e-10,1.5952037279142518e-9,1.3487799052789684e-8,7.735668471210726e-8,3.0094452128861704e-7,7.941579075931259e-7,1.421540111177895e-6],\"yaxis\":\"y\",\"type\":\"scatter\"},{\"legendgroup\":\"Positive\",\"marker\":{\"color\":\"rgb(31, 119, 180)\"},\"mode\":\"lines\",\"name\":\"Positive\",\"showlegend\":true,\"x\":[0.0,0.716,1.432,2.148,2.864,3.58,4.296,5.012,5.728,6.444,7.16,7.876,8.592,9.308,10.024,10.74,11.456,12.172,12.888,13.604,14.32,15.036,15.752,16.468,17.184,17.9,18.616,19.332,20.048,20.764,21.48,22.196,22.912,23.628,24.344,25.06,25.776,26.492,27.208,27.924,28.64,29.356,30.072,30.788,31.504,32.22,32.936,33.652,34.368,35.084,35.8,36.516,37.232,37.948,38.664,39.38,40.096,40.812,41.528,42.244,42.96,43.676,44.392,45.108,45.824,46.54,47.256,47.972,48.688,49.404,50.12,50.836,51.552,52.268,52.984,53.7,54.416,55.132,55.848,56.564,57.28,57.996,58.712,59.428,60.144,60.86,61.576,62.292,63.008,63.724,64.44,65.156,65.872,66.588,67.304,68.02,68.736,69.452,70.168,70.884,71.6,72.316,73.032,73.748,74.464,75.18,75.896,76.612,77.328,78.044,78.76,79.476,80.192,80.908,81.624,82.34,83.056,83.772,84.488,85.204,85.92,86.636,87.352,88.068,88.784,89.5,90.216,90.932,91.648,92.364,93.08,93.796,94.512,95.228,95.944,96.66,97.376,98.092,98.808,99.524,100.24,100.956,101.672,102.388,103.104,103.82,104.536,105.252,105.968,106.684,107.4,108.116,108.832,109.548,110.264,110.98,111.696,112.412,113.128,113.844,114.56,115.276,115.992,116.708,117.424,118.14,118.856,119.572,120.288,121.004,121.72,122.436,123.152,123.868,124.584,125.3,126.016,126.732,127.448,128.164,128.88,129.596,130.312,131.028,131.744,132.46,133.176,133.892,134.608,135.324,136.04,136.756,137.472,138.188,138.904,139.62,140.336,141.052,141.768,142.484,143.2,143.916,144.632,145.348,146.064,146.78,147.496,148.212,148.928,149.644,150.36,151.076,151.792,152.508,153.224,153.94,154.656,155.372,156.088,156.804,157.52,158.236,158.952,159.668,160.384,161.1,161.816,162.532,163.248,163.964,164.68,165.396,166.112,166.828,167.544,168.26,168.976,169.692,170.408,171.124,171.84,172.556,173.272,173.988,174.704,175.42,176.136,176.852,177.568,178.284,179.0,179.716,180.432,181.148,181.864,182.58,183.296,184.012,184.728,185.444,186.16,186.876,187.592,188.308,189.024,189.74,190.456,191.172,191.888,192.604,193.32,194.036,194.752,195.468,196.184,196.9,197.616,198.332,199.048,199.764,200.48,201.196,201.912,202.628,203.344,204.06,204.776,205.492,206.208,206.924,207.64,208.356,209.072,209.788,210.504,211.22,211.936,212.652,213.368,214.084,214.8,215.516,216.232,216.948,217.664,218.38,219.096,219.812,220.528,221.244,221.96,222.676,223.392,224.108,224.824,225.54,226.256,226.972,227.688,228.404,229.12,229.836,230.552,231.268,231.984,232.7,233.416,234.132,234.848,235.564,236.28,236.996,237.712,238.428,239.144,239.86,240.576,241.292,242.008,242.724,243.44,244.156,244.872,245.588,246.304,247.02,247.736,248.452,249.168,249.884,250.6,251.316,252.032,252.748,253.464,254.18,254.896,255.612,256.328,257.044,257.76,258.476,259.192,259.908,260.624,261.34,262.056,262.772,263.488,264.204,264.92,265.636,266.352,267.068,267.784,268.5,269.216,269.932,270.648,271.364,272.08,272.796,273.512,274.228,274.944,275.66,276.376,277.092,277.808,278.524,279.24,279.956,280.672,281.388,282.104,282.82,283.536,284.252,284.968,285.684,286.4,287.116,287.832,288.548,289.264,289.98,290.696,291.412,292.128,292.844,293.56,294.276,294.992,295.708,296.424,297.14,297.856,298.572,299.288,300.004,300.72,301.436,302.152,302.868,303.584,304.3,305.016,305.732,306.448,307.164,307.88,308.596,309.312,310.028,310.744,311.46,312.176,312.892,313.608,314.324,315.04,315.756,316.472,317.188,317.904,318.62,319.336,320.052,320.768,321.484,322.2,322.916,323.632,324.348,325.064,325.78,326.496,327.212,327.928,328.644,329.36,330.076,330.792,331.508,332.224,332.94,333.656,334.372,335.088,335.804,336.52,337.236,337.952,338.668,339.384,340.1,340.816,341.532,342.248,342.964,343.68,344.396,345.112,345.828,346.544,347.26,347.976,348.692,349.408,350.124,350.84,351.556,352.272,352.988,353.704,354.42,355.136,355.852,356.568,357.284],\"xaxis\":\"x2\",\"y\":[0.0013948899175518677,0.0017617358673378673,0.002257633125424448,0.0029745302778534364,0.003889904708897733,0.004850635059576702,0.0056742569810729225,0.00629003941007317,0.006799611138111012,0.00739700469267836,0.008212753919406646,0.009217197681678663,0.01025644782698178,0.011172912449479213,0.011903603187782972,0.01248681559271208,0.01299331314170938,0.013458514279814853,0.013872669355915088,0.014214915848127153,0.0144826251036165,0.014694987922138115,0.014881938562271562,0.015070821340905177,0.015274702960512468,0.015486335194912155,0.015682514742348726,0.015837632604612926,0.01593833488724803,0.015990319661171988,0.016013251316310453,0.01602722498857364,0.016040435241550566,0.016047481149229888,0.016038749949303904,0.016011226978282667,0.015971225203610127,0.015928678109421255,0.01588889044213992,0.01584753048278066,0.015793049541178814,0.015716284894516125,0.015618942151482663,0.015511455522380452,0.015402094344356191,0.015289853223894537,0.015168866671995395,0.015037582932581665,0.01490086774838043,0.014763882967305119,0.014627355826797825,0.014489903139352014,0.01435226237534331,0.014217110501828544,0.014085863502703978,0.013957476446630283,0.013830257153618455,0.013703225788003833,0.013574202546968577,0.0134368118729755,0.013281790394091907,0.013103834190239147,0.012908007451355195,0.012709148519974027,0.012524259399305366,0.012363562747561396,0.012226326336193055,0.012103688760608107,0.011985413404329027,0.011865026418652927,0.011740409426497515,0.01161161041035319,0.011479779219724914,0.011349116883420645,0.011229756700241594,0.011137248251823223,0.01108534777312296,0.01107277315549023,0.01107190219290004,0.011033859790890724,0.010916166524073838,0.010714077562165903,0.010465251131999385,0.01022273772677743,0.01002319885532539,0.009874781325814649,0.00976390872043114,0.009668243359818633,0.009568040920607994,0.009453078975258775,0.009323403829018535,0.009184982875892384,0.00904485476595773,0.008909164681555157,0.008782507935849095,0.008665462292871722,0.008551825829716773,0.008430698733048794,0.00829403880542735,0.008142641963941311,0.007983881564495704,0.007823856376521594,0.007662958351593479,0.007499003462581499,0.007332755649283176,0.00716868476437313,0.007010224352984368,0.0068550766954448075,0.006695911845692581,0.006526225906411195,0.006345935723765387,0.0061614941696972155,0.005980422233811796,0.0058050857774455,0.005630869360732973,0.005449683783014238,0.005255420953170126,0.005047449658781164,0.004830615560721854,0.004612558894071121,0.004400417440360866,0.004198789294655774,0.0040093224318702575,0.003831204002088969,0.0036619381997651406,0.0034979844931526914,0.0033351069681797673,0.0031691701968155875,0.0029979801168633505,0.00282298964381598,0.0026489981487177864,0.0024818212238210805,0.002325786689408029,0.0021825560047700086,0.0020512188606802437,0.0019289560962764787,0.0018120608230313283,0.0016974130965273955,0.0015839061916859808,0.0014726895144849027,0.0013657063781379478,0.0012637670053768037,0.0011662024989317083,0.0010723967847220779,0.0009831754863931046,0.0009003185622945797,0.0008248979308291015,0.0007564698036418525,0.0006939536018759074,0.0006370741397662702,0.0005867662311398275,0.0005440736598815484,0.000508442752988412,0.0004769278951715765,0.0004453332215158172,0.00041073763207636905,0.0003733300296739897,0.00033586200708691133,0.0003013517621690072,0.0002712928027178785,0.0002455573229329648,0.000223165982023802,0.00020284378613307587,0.00018337359598336164,0.00016407667584784655,0.0001451842863767515,0.0001277021726705091,0.00011279617180714294,0.00010108899313592909,0.00009229553926393698,0.00008539227105602821,0.00007916804378390985,0.00007280609163787025,0.00006617966755504152,0.00005969912275447108,0.000053822110627928795,0.00004863191046575045,0.00004384908968299201,0.000039197297811258704,0.000034687023917366624,0.00003053752336937886,0.000026902459561966594,0.00002374388404396394,0.000020948072407422306,0.000018477086975441022,0.000016368018539489835,0.00001462714575512723,0.000013186020654423103,0.000011972230573686878,0.000010975345038988736,0.000010195005541600407,9.541344587248898e-6,8.846983982792498e-6,8.002525936546105e-6,7.066967232402124e-6,6.247962374691837e-6,5.783340852954784e-6,5.8047744475621335e-6,6.248695845295981e-6,6.869204994403503e-6,7.3659611124874055e-6,7.547186051505858e-6,7.404855183061629e-6,7.063557749597638e-6,6.68205611911624e-6,6.394525086622848e-6,6.289775658722631e-6,6.376152252321207e-6,6.536348245495668e-6,6.554105255797624e-6,6.25160561254131e-6,5.630388348724721e-6,4.86987242911609e-6,4.193058968653749e-6,3.744797303375888e-6,3.564096898871303e-6,3.604644892405406e-6,3.7569765185535703e-6,3.892218992915768e-6,3.930948272274049e-6,3.875415981255716e-6,3.767740408234596e-6,3.6340938006314385e-6,3.489448369366173e-6,3.377881834971138e-6,3.3651811784327433e-6,3.476545696861118e-6,3.6640983273619153e-6,3.853439567903924e-6,4.0070989491838125e-6,4.121313943184632e-6,4.174195002033127e-6,4.117567734130596e-6,3.93815425654617e-6,3.703742843164588e-6,3.519610014839523e-6,3.4341951019013345e-6,3.3970049171714265e-6,3.313021223457037e-6,3.1313684444227237e-6,2.8748292696926995e-6,2.596403546544554e-6,2.3350340870537122e-6,2.1245913628779723e-6,2.023999214941768e-6,2.1023652802513073e-6,2.375250080833333e-6,2.7670416426939445e-6,3.1589868960877133e-6,3.4778121354550973e-6,3.7254310353379763e-6,3.926132891624532e-6,4.067682653297849e-6,4.10824031327479e-6,4.036942130438072e-6,3.915230357159556e-6,3.841276335712162e-6,3.860456074087679e-6,3.9165168338052785e-6,3.906933645724719e-6,3.7895192036059803e-6,3.6217151614220556e-6,3.485021941128677e-6,3.3831531627883846e-6,3.243059175643223e-6,3.0227452251008773e-6,2.785510668582095e-6,2.6406982923538282e-6,2.629184373910264e-6,2.695471317494121e-6,2.758447366780871e-6,2.7709556526860013e-6,2.7087793601285596e-6,2.547254854545733e-6,2.2818815074473893e-6,1.9553613275129944e-6,1.6355711205742669e-6,1.3654329114703465e-6,1.1453737570886056e-6,9.625954641757415e-7,8.248720933382211e-7,7.569627561689506e-7,7.674930609987294e-7,8.354431958370416e-7,9.412994478575426e-7,1.0985901199292953e-6,1.327641965666296e-6,1.5938286416789561e-6,1.7963611238114798e-6,1.837150146418444e-6,1.698039720840775e-6,1.4493822094940487e-6,1.1954296832417134e-6,1.0144058940817234e-6,9.330918420265764e-7,9.399750542825449e-7,1.0183000833925301e-6,1.167968233780756e-6,1.39696614536483e-6,1.6968466603227791e-6,2.0299238251497315e-6,2.3346565617166214e-6,2.53969529258826e-6,2.583691902554534e-6,2.4419057443959463e-6,2.1481333260747157e-6,1.7879648820521708e-6,1.4541709824434092e-6,1.197731903191101e-6,1.0223967409396833e-6,9.177754743086364e-7,8.76577028988871e-7,8.770248680890995e-7,8.732870482636126e-7,8.219750878607121e-7,7.146460276225285e-7,5.823720157675828e-7,4.773281060383602e-7,4.4704350920913496e-7,5.063091201786099e-7,6.223327506281142e-7,7.380188308099178e-7,8.230942567026757e-7,8.974524643238774e-7,9.92790297365734e-7,1.0962049435986099e-6,1.1459487293910727e-6,1.0840323795225208e-6,9.055944674813333e-7,6.603934538448915e-7,4.172040842556301e-7,2.266034120195126e-7,1.0505358829622446e-7,4.1837692700882986e-8,1.6776715730943353e-8,1.5195118496693184e-8,3.404158283284492e-8,7.955451760507172e-8,1.5825114560925225e-7,2.6529275108992694e-7,3.7918760067287913e-7,4.69315839186779e-7,5.101562814639567e-7,4.905092220898993e-7,4.157098470345333e-7,3.0676616474506717e-7,1.9404635097424937e-7,1.0378002755118142e-7,4.67569202686335e-8,1.9137995367354425e-8,1.2608728012355544e-8,2.387016280005499e-8,5.706982313308215e-8,1.1787214854789841e-7,2.02333176386768e-7,2.907891560578895e-7,3.5782744034682447e-7,3.9263864883132066e-7,4.062940070305963e-7,4.1586051400267517e-7,4.2809930604516496e-7,4.45386583356994e-7,4.783332082710247e-7,5.35640708084326e-7,5.993621200411246e-7,6.24279106884968e-7,5.727528296997931e-7,4.491220981091331e-7,2.9673402501275835e-7,1.6407788678797654e-7,7.582140496737612e-8,3.013025945497639e-8,1.3952362424053992e-8,1.805341042129621e-8,4.268819672573309e-8,9.361478133337044e-8,1.713249510884454e-7,2.613721735384344e-7,3.380798028397076e-7,3.832282728535134e-7,3.9988199943348267e-7,4.0215867927967357e-7,3.940000964696864e-7,3.6815936646953674e-7,3.2733659578285665e-7,2.944037075293723e-7,2.922500605136697e-7,3.167837861942177e-7,3.387810815347158e-7,3.36429457000396e-7,3.2314943762749037e-7,3.3828991402944885e-7,4.073133002080622e-7,5.098379724210235e-7,5.872638248134538e-7,5.856365607546408e-7,4.972537956890202e-7,3.6602161569610483e-7,2.5559823189238905e-7,2.0945633364493773e-7,2.2956354867562218e-7,2.802958759383345e-7,3.122251301191445e-7,2.934845001481163e-7,2.2790253275780668e-7,1.4562715174266502e-7,7.742357045652468e-8,3.796152395210884e-8,2.8592054373658205e-8,4.853063197043694e-8,9.887577441699793e-8,1.7470930921746553e-7,2.548062563545773e-7,3.050159592583372e-7,2.9949494054627893e-7,2.4122686554401634e-7,1.595262447027297e-7,8.735421156715277e-8,4.259306147972742e-8,2.8130189701908753e-8,4.292323820427938e-8,8.80251822395571e-8,1.6043755360877535e-7,2.420751039238944e-7,2.9988381766705924e-7,3.047336267864032e-7,2.5398559308570953e-7,1.73625868895441e-7,9.734999085605929e-8,4.47685961612456e-8,1.688601407657635e-8,5.223946817367134e-9,1.3257939198100573e-9,2.7871941569839854e-10,7.064392150885247e-11,1.6561355893998846e-10,8.812189375684786e-10,3.998432684610466e-9,1.4892572638248647e-8,4.54959943748061e-8,1.1399684202256804e-7,2.342764061261361e-7,3.9489383746693126e-7,5.459441667650324e-7,6.190591886736088e-7,5.757476696346852e-7,4.3918578390260133e-7,2.7477703279905553e-7,1.410030982541217e-7,5.9346204939981386e-8,2.048676184986352e-8,5.800557769552995e-9,1.347045496708129e-9,2.5657293530939524e-10,4.0082563716478235e-11,5.135895882963246e-12,5.397504346851407e-13,4.652494421283581e-14,3.2892341590648346e-15,1.907303444263193e-16,9.071119009270448e-18,3.5384902796227397e-19,1.1321167594120425e-20,2.970848482204813e-22,6.394194701445391e-24,1.1287747354353446e-25,1.6343488993320163e-27,1.9408784585334297e-29,1.8904621030716477e-31,1.5103026145622576e-33,1.6482856560937625e-35,9.942530876698464e-34,1.2307759871760555e-31,1.2496848340500672e-29,1.040730451863014e-27,7.10873713667588e-26,3.982569334057291e-24,1.8300012915377392e-22,6.896955388537206e-21,2.1319784814702404e-19,5.4054276069568725e-18,1.1240960565159244e-16,1.9173898477989387e-15,2.6826509921974217e-14,3.0788439466343187e-13,2.898820420068577e-12,2.2394231778048455e-11,1.4198999088377732e-10,7.392786177591263e-10,3.1636008283645116e-9,1.1144969590209432e-8,3.241466789765827e-8,7.822571827842601e-8,1.579928095386965e-7,2.7082190315723404e-7,4.0221215715307573e-7,5.308816113279055e-7,6.369084327634325e-7,7.004666567582597e-7,6.992155689909524e-7],\"yaxis\":\"y2\",\"type\":\"scatter\"},{\"legendgroup\":\"Negative\",\"marker\":{\"color\":\"rgb(255, 127, 14)\"},\"mode\":\"lines\",\"name\":\"Negative\",\"showlegend\":true,\"x\":[0.0,0.688,1.376,2.064,2.752,3.44,4.128,4.816,5.504,6.192,6.88,7.568,8.256,8.944,9.632,10.32,11.008,11.696,12.384,13.072,13.76,14.448,15.136,15.824,16.512,17.2,17.888,18.576,19.264,19.952,20.64,21.328,22.016,22.704,23.392,24.08,24.768,25.456,26.144,26.832,27.52,28.208,28.896,29.584,30.272,30.96,31.648,32.336,33.024,33.712,34.4,35.088,35.776,36.464,37.152,37.84,38.528,39.216,39.904,40.592,41.28,41.968,42.656,43.344,44.032,44.72,45.408,46.096,46.784,47.472,48.16,48.848,49.536,50.224,50.912,51.6,52.288,52.976,53.664,54.352,55.04,55.728,56.416,57.104,57.792,58.48,59.168,59.856,60.544,61.232,61.92,62.608,63.296,63.984,64.672,65.36,66.048,66.736,67.424,68.112,68.8,69.488,70.176,70.864,71.552,72.24,72.928,73.616,74.304,74.992,75.68,76.368,77.056,77.744,78.432,79.12,79.808,80.496,81.184,81.872,82.56,83.248,83.936,84.624,85.312,86.0,86.688,87.376,88.064,88.752,89.44,90.128,90.816,91.504,92.192,92.88,93.568,94.256,94.944,95.632,96.32,97.008,97.696,98.384,99.072,99.76,100.448,101.136,101.824,102.512,103.2,103.888,104.576,105.264,105.952,106.64,107.328,108.016,108.704,109.392,110.08,110.768,111.456,112.144,112.832,113.52,114.208,114.896,115.584,116.272,116.96,117.648,118.336,119.024,119.712,120.4,121.088,121.776,122.464,123.152,123.84,124.528,125.216,125.904,126.592,127.28,127.968,128.656,129.344,130.032,130.72,131.408,132.096,132.784,133.472,134.16,134.848,135.536,136.224,136.912,137.6,138.288,138.976,139.664,140.352,141.04,141.728,142.416,143.104,143.792,144.48,145.168,145.856,146.544,147.232,147.92,148.608,149.296,149.984,150.672,151.36,152.048,152.736,153.424,154.112,154.8,155.488,156.176,156.864,157.552,158.24,158.928,159.616,160.304,160.992,161.68,162.368,163.056,163.744,164.432,165.12,165.808,166.496,167.184,167.872,168.56,169.248,169.936,170.624,171.312,172.0,172.688,173.376,174.064,174.752,175.44,176.128,176.816,177.504,178.192,178.88,179.568,180.256,180.944,181.632,182.32,183.008,183.696,184.384,185.072,185.76,186.448,187.136,187.824,188.512,189.2,189.888,190.576,191.264,191.952,192.64,193.328,194.016,194.704,195.392,196.08,196.768,197.456,198.144,198.832,199.52,200.208,200.896,201.584,202.272,202.96,203.648,204.336,205.024,205.712,206.4,207.088,207.776,208.464,209.152,209.84,210.528,211.216,211.904,212.592,213.28,213.968,214.656,215.344,216.032,216.72,217.408,218.096,218.784,219.472,220.16,220.848,221.536,222.224,222.912,223.6,224.288,224.976,225.664,226.352,227.04,227.728,228.416,229.104,229.792,230.48,231.168,231.856,232.544,233.232,233.92,234.608,235.296,235.984,236.672,237.36,238.048,238.736,239.424,240.112,240.8,241.488,242.176,242.864,243.552,244.24,244.928,245.616,246.304,246.992,247.68,248.368,249.056,249.744,250.432,251.12,251.808,252.496,253.184,253.872,254.56,255.248,255.936,256.624,257.312,258.0,258.688,259.376,260.064,260.752,261.44,262.128,262.816,263.504,264.192,264.88,265.568,266.256,266.944,267.632,268.32,269.008,269.696,270.384,271.072,271.76,272.448,273.136,273.824,274.512,275.2,275.888,276.576,277.264,277.952,278.64,279.328,280.016,280.704,281.392,282.08,282.768,283.456,284.144,284.832,285.52,286.208,286.896,287.584,288.272,288.96,289.648,290.336,291.024,291.712,292.4,293.088,293.776,294.464,295.152,295.84,296.528,297.216,297.904,298.592,299.28,299.968,300.656,301.344,302.032,302.72,303.408,304.096,304.784,305.472,306.16,306.848,307.536,308.224,308.912,309.6,310.288,310.976,311.664,312.352,313.04,313.728,314.416,315.104,315.792,316.48,317.168,317.856,318.544,319.232,319.92,320.608,321.296,321.984,322.672,323.36,324.048,324.736,325.424,326.112,326.8,327.488,328.176,328.864,329.552,330.24,330.928,331.616,332.304,332.992,333.68,334.368,335.056,335.744,336.432,337.12,337.808,338.496,339.184,339.872,340.56,341.248,341.936,342.624,343.312],\"xaxis\":\"x2\",\"y\":[0.0012620103020701667,0.0015177332395735995,0.0018447195672051083,0.002322689557493379,0.0029401439989549054,0.00358472227924101,0.00413891158346531,0.0045979082102590475,0.0050927762121933,0.00578752962630238,0.006739412525092639,0.007843465735692586,0.008901039640910307,0.009747946451277438,0.010343778983170784,0.010769358285070866,0.011151083969837312,0.01157463578001791,0.012045382505842049,0.012511526917103674,0.012920012901699536,0.013257325988339397,0.013548564262445826,0.013826501874920485,0.014102968338674299,0.014364331108345138,0.014588050717813737,0.014762195475925536,0.01489273375103446,0.014996506696968519,0.01508889777288057,0.015176585213592605,0.015258267653184113,0.015328893086776164,0.015383171690829384,0.015418492723836174,0.015437627380310341,0.015448648962901892,0.015460808086529242,0.015480212003886074,0.015509600586116962,0.015550529214001027,0.015602313449156607,0.015656243244394734,0.015691481626591102,0.01568094826325839,0.015606710701940751,0.015473040375758884,0.01530527898865706,0.015135253031886823,0.01498509765297718,0.014860570603233625,0.01475562108992962,0.014661294388354671,0.014570856065532144,0.014479490990929041,0.01438301106097434,0.014278556630652011,0.014165379128018123,0.014043670806113748,0.013913116902741754,0.013773438767412811,0.013625926741375877,0.013473404921247111,0.01331846737411536,0.01316227194279561,0.013005274660334755,0.012848758517601477,0.01269528927014069,0.012547696519530728,0.012407731777399726,0.012275685457107251,0.012151037258694227,0.012033003788628965,0.01192009464005853,0.011809181083463845,0.011695459370815724,0.011574337383323285,0.01144482537308258,0.011311991829617849,0.01118558771690887,0.011074770119993136,0.010982507902860398,0.010903629378212328,0.010827508339262118,0.010743404547608288,0.010645480692138838,0.010535170129798556,0.01042002504136879,0.01030964923357507,0.010210368730808732,0.010121259128847367,0.010034529234767765,0.009940977627945213,0.009836623232030122,0.009724602322500348,0.009610597268832404,0.009496597652244644,0.009379348289024777,0.009254523762559622,0.009121550242571056,0.008984024493930702,0.008846228409392412,0.008710059540735825,0.008574814067938771,0.008438661869528324,0.008300093877806298,0.00815895686019135,0.008016801617437364,0.007875742957979777,0.0077360210500949985,0.007594225861256372,0.007444197634034862,0.00728053883922632,0.007102410093791983,0.006914605571076798,0.00672448481640265,0.006536780471779145,0.006350851448726431,0.006162940081689218,0.005970701068521674,0.005775170036682999,0.005578962412734808,0.00538356663242264,0.005188399252709047,0.004991680818877289,0.004791840727419889,0.004588487877190669,0.004382656440989762,0.004176457462084793,0.0039725095143577065,0.0037735448945651344,0.003582121427289119,0.003399824388061297,0.003225952649083786,0.0030571357188824977,0.0028891448321511737,0.0027197717884479915,0.0025501921658581824,0.0023838037460853015,0.0022239881241463352,0.002072726809883166,0.0019306015736435024,0.0017973716951761901,0.001672273176504693,0.0015540209400583577,0.001441041732560313,0.0013321723765755376,0.0012273625415407073,0.0011276538428573505,0.0010343342398076796,0.0009480657564799233,0.0008687306286449824,0.0007957825289006835,0.0007284760626045561,0.0006659385722337347,0.0006074238845586532,0.0005526450672685522,0.0005017515893416091,0.0004548965398721574,0.0004118008644164023,0.0003716868150577778,0.0003336504915091488,0.00029728555486225114,0.0002631406926583548,0.00023252873996893847,0.00020664216005709656,0.00018564839111852145,0.00016856858637988572,0.00015396505644634225,0.00014069452453478585,0.00012815645747840193,0.0001161757231237442,0.0001048774850879808,0.00009455458885036512,0.00008538527965277434,0.00007718083729867067,0.00006948130328021157,0.00006193804787441342,0.00005458388556012007,0.00004775509066810505,0.00004178683044641843,0.00003674227859068622,0.0000323696280928677,0.000028325608028057455,0.0000244892642431642,0.000021073848552827247,0.00001841562359691322,0.000016643500949769032,0.00001554646986619725,0.00001473259181329702,0.000013887098580983367,0.000012894923007070286,0.000011786616712386192,0.000010642034953410482,9.559956783432209e-6,8.654394616700836e-6,7.994036364524334e-6,7.519253748511992e-6,7.056822064390993e-6,6.457301512011338e-6,5.729769793061752e-6,5.0403685689568884e-6,4.57376780600648e-6,4.381368874010291e-6,4.348806960082587e-6,4.309219516795193e-6,4.19506142950683e-6,4.081275068699217e-6,4.080411683489838e-6,4.2062010363682954e-6,4.3515371646327034e-6,4.391195164345574e-6,4.2825177788137335e-6,4.062034053442381e-6,3.7736097577200533e-6,3.428276087950545e-6,3.0250182023369078e-6,2.5830101255189816e-6,2.1494143362304705e-6,1.7924468900589497e-6,1.5889724191578367e-6,1.5978321055108488e-6,1.8212213082894613e-6,2.178640923913278e-6,2.520400730664162e-6,2.68876984735133e-6,2.6011105703912026e-6,2.3000221612278915e-6,1.9279901105588536e-6,1.6403682862218563e-6,1.5169465010145635e-6,1.5281144734917855e-6,1.5717158163742106e-6,1.5524801502400912e-6,1.4481587696946657e-6,1.31526014381492e-6,1.2354705366180924e-6,1.2536384210685894e-6,1.3599579745056314e-6,1.5185209456563809e-6,1.6974985037358144e-6,1.8674580715806586e-6,1.9835509807114344e-6,1.9867224817553117e-6,1.8320559092836494e-6,1.522645498425498e-6,1.1218525264549545e-6,7.306663053716725e-7,4.4393758834172907e-7,3.1810669950796584e-7,3.6636544048940954e-7,5.644485036702987e-7,8.497321483000689e-7,1.127212082394369e-6,1.3050817559715684e-6,1.3461941232669017e-6,1.2876025754530789e-6,1.2034778183454715e-6,1.1448999451821792e-6,1.1105431751240291e-6,1.0647143985549043e-6,9.765604788770095e-7,8.484102763321753e-7,7.176770664570562e-7,6.319167652415145e-7,6.119359860495896e-7,6.314940406992064e-7,6.34415817991095e-7,5.776247696742517e-7,4.635716631424928e-7,3.368727617453849e-7,2.538183616163229e-7,2.511100025458415e-7,3.293917148942561e-7,4.5202292530002396e-7,5.586176725830933e-7,5.93330057063368e-7,5.353900833111812e-7,4.09165764953596e-7,2.6458500359966094e-7,1.4537327295812258e-7,7.11988892303158e-8,4.26859241432293e-8,5.754961759010459e-8,1.2042135917594473e-7,2.3633820663986326e-7,3.9152669318139823e-7,5.406590642795568e-7,6.22759758617357e-7,6.032373596829742e-7,5.06359377625424e-7,4.044195506838098e-7,3.700520961254097e-7,4.2919590029792167e-7,5.466211087209472e-7,6.522046997536599e-7,6.908874472024332e-7,6.586180188491333e-7,5.945629223914113e-7,5.433763621066364e-7,5.300455950888292e-7,5.627716646974009e-7,6.390783406626385e-7,7.387142984359697e-7,8.22925129230847e-7,8.577674507673665e-7,8.415212888049752e-7,8.051254241432801e-7,7.859174315978664e-7,8.016949728902818e-7,8.456085132260113e-7,8.996607012971644e-7,9.486897993238022e-7,9.8052889410231e-7,9.790008330816712e-7,9.268181644579918e-7,8.183781875998707e-7,6.661570616016417e-7,4.94588949088468e-7,3.303604939385107e-7,1.951722605366628e-7,1.0023885895948687e-7,4.410622956239507e-8,1.6448101455814424e-8,5.160704931953689e-9,1.3560856202053182e-9,2.986417794043177e-10,6.346484376748834e-11,6.819131122830268e-11,3.3183886009764195e-10,1.5264439754387705e-9,5.892518206127725e-9,1.9060477979016347e-8,5.174455611510752e-8,1.1810537259665519e-7,2.2706388895365763e-7,3.6835312884832335e-7,5.049837305272292e-7,5.856892894545157e-7,5.750096534763198e-7,4.778267475334257e-7,3.358577491305177e-7,1.9943637163284442e-7,9.989156554327177e-8,4.212605965554911e-8,1.493040969375486e-8,4.439414488382255e-9,1.1056441245069429e-9,2.3031926099730488e-10,4.008225321810989e-11,5.821720420800678e-12,7.051447576938817e-13,7.117909286098785e-14,5.984822942545487e-15,4.1898626992205907e-16,2.4415245300998485e-17,1.1839376461905683e-18,4.7766191211790545e-20,1.6031450321880852e-21,4.475446924252669e-23,1.0391391381186971e-24,2.0065765330009643e-26,3.222257704419376e-28,4.302989562804281e-30,4.77829261407964e-32,4.412224693174531e-34,3.3877962011780365e-36,2.162946867802402e-38,1.148256376670958e-40,5.072420306635644e-43,1.0981227994507922e-43,2.5745866277740626e-41,5.105454932029671e-39,8.41804665056895e-37,1.154085693571439e-34,1.315572039282275e-32,1.2469270882192646e-30,9.826918011817234e-29,6.439371091671188e-27,3.5084833707071905e-25,1.5894440290433582e-23,5.987160545496717e-22,1.8751949143675835e-20,4.883394132453252e-19,1.0574186977065341e-17,1.903803153652994e-16,2.85001369046897e-15,3.54749423605907e-14,3.6715233861982836e-13,3.159517372677704e-12,2.2607109956019517e-11,1.34499045355548e-10,6.653393916968491e-10,2.736637296480061e-9,9.359261027365075e-9,2.661445068017271e-8,6.292889570842766e-8,1.2372532308006765e-7,2.0230958191293002e-7,2.752988158275943e-7,3.1252918876552797e-7,2.987377782544269e-7,2.4853902812077265e-7,1.9905100112240211e-7,1.8515908560886561e-7,2.1649506134848364e-7,2.7124120512631423e-7,3.1027494102690533e-7,3.032672391078851e-7,2.482813450404429e-7,1.693376165355994e-7,9.608000648724175e-8,4.53335906854057e-8,1.7785748454027683e-8,5.802003215522075e-9,1.5737460902472544e-9,3.5492899628290125e-10,6.655768625396874e-11,1.0377788554235676e-11,1.3454305108666232e-12,1.450332488765882e-13,1.2999412571061182e-14,9.687901783872313e-16,6.003238188005184e-17,3.0930808395187606e-18,1.3250943868627056e-19,4.720110935073844e-21,1.3980008815504327e-22,3.442805853083823e-24,7.049648574582571e-26,1.2002514826996229e-27,1.6991310734450965e-29,2.000006289116772e-31,1.9574275128598214e-33,1.5929049549649285e-35,1.0778141627272878e-37,6.063840324720783e-40,2.836622056219928e-42,1.1033290220103852e-44,3.568276144654542e-47,9.59536984684473e-50,2.1454323720468973e-52,3.988575227716203e-55,6.165532534634417e-58,7.924525147541277e-61,8.468875530662363e-64,7.525374196478424e-67,5.560070493427191e-70,3.4157206369546304e-73,1.7447541394501593e-76,7.410303218510518e-80,2.616902659741301e-83,7.684029201277034e-87,1.9255123359809878e-90,2.1941354551960534e-88,8.089924134929011e-85,2.480139243707527e-81,6.322044196924745e-78,1.3399507584412333e-74,2.3614023876090315e-71,3.4601984328046605e-68,4.215818061136458e-65,4.270832736715158e-62,3.597436310373335e-59,2.519553082598398e-56,1.4672487875277922e-53,7.104505485389467e-51,2.8603145575009396e-48,9.575105921186224e-46,2.6651596239661375e-43,6.168118541342027e-41,1.1869489641788432e-38,1.8991585713716892e-36,2.526621910677952e-34,2.794918420345147e-32,2.570679071564067e-30,1.9659679599670402e-28,1.2501290793843755e-26,6.609720985958682e-25,2.90577006062808e-23,1.0621582097516088e-21,3.228248989030353e-20,8.158206332838616e-19,1.7142422485051324e-17,2.995018791090955e-16,4.350876506956184e-15,5.255376197389606e-14,5.278137632789633e-13,4.4076536391864046e-12,3.060441316708113e-11,1.7668940210791064e-10,8.481775903665663e-10,3.3854229531946135e-9,1.1235409940141511e-8,3.1003788054053424e-8,7.113616423334934e-8,1.3571128914583465e-7,2.1527388879087534e-7,2.8393346621394094e-7],\"yaxis\":\"y2\",\"type\":\"scatter\"}],                        {\"template\":{\"data\":{\"histogram2dcontour\":[{\"type\":\"histogram2dcontour\",\"colorbar\":{\"outlinewidth\":0,\"ticks\":\"\"},\"colorscale\":[[0.0,\"#0d0887\"],[0.1111111111111111,\"#46039f\"],[0.2222222222222222,\"#7201a8\"],[0.3333333333333333,\"#9c179e\"],[0.4444444444444444,\"#bd3786\"],[0.5555555555555556,\"#d8576b\"],[0.6666666666666666,\"#ed7953\"],[0.7777777777777778,\"#fb9f3a\"],[0.8888888888888888,\"#fdca26\"],[1.0,\"#f0f921\"]]}],\"choropleth\":[{\"type\":\"choropleth\",\"colorbar\":{\"outlinewidth\":0,\"ticks\":\"\"}}],\"histogram2d\":[{\"type\":\"histogram2d\",\"colorbar\":{\"outlinewidth\":0,\"ticks\":\"\"},\"colorscale\":[[0.0,\"#0d0887\"],[0.1111111111111111,\"#46039f\"],[0.2222222222222222,\"#7201a8\"],[0.3333333333333333,\"#9c179e\"],[0.4444444444444444,\"#bd3786\"],[0.5555555555555556,\"#d8576b\"],[0.6666666666666666,\"#ed7953\"],[0.7777777777777778,\"#fb9f3a\"],[0.8888888888888888,\"#fdca26\"],[1.0,\"#f0f921\"]]}],\"heatmap\":[{\"type\":\"heatmap\",\"colorbar\":{\"outlinewidth\":0,\"ticks\":\"\"},\"colorscale\":[[0.0,\"#0d0887\"],[0.1111111111111111,\"#46039f\"],[0.2222222222222222,\"#7201a8\"],[0.3333333333333333,\"#9c179e\"],[0.4444444444444444,\"#bd3786\"],[0.5555555555555556,\"#d8576b\"],[0.6666666666666666,\"#ed7953\"],[0.7777777777777778,\"#fb9f3a\"],[0.8888888888888888,\"#fdca26\"],[1.0,\"#f0f921\"]]}],\"heatmapgl\":[{\"type\":\"heatmapgl\",\"colorbar\":{\"outlinewidth\":0,\"ticks\":\"\"},\"colorscale\":[[0.0,\"#0d0887\"],[0.1111111111111111,\"#46039f\"],[0.2222222222222222,\"#7201a8\"],[0.3333333333333333,\"#9c179e\"],[0.4444444444444444,\"#bd3786\"],[0.5555555555555556,\"#d8576b\"],[0.6666666666666666,\"#ed7953\"],[0.7777777777777778,\"#fb9f3a\"],[0.8888888888888888,\"#fdca26\"],[1.0,\"#f0f921\"]]}],\"contourcarpet\":[{\"type\":\"contourcarpet\",\"colorbar\":{\"outlinewidth\":0,\"ticks\":\"\"}}],\"contour\":[{\"type\":\"contour\",\"colorbar\":{\"outlinewidth\":0,\"ticks\":\"\"},\"colorscale\":[[0.0,\"#0d0887\"],[0.1111111111111111,\"#46039f\"],[0.2222222222222222,\"#7201a8\"],[0.3333333333333333,\"#9c179e\"],[0.4444444444444444,\"#bd3786\"],[0.5555555555555556,\"#d8576b\"],[0.6666666666666666,\"#ed7953\"],[0.7777777777777778,\"#fb9f3a\"],[0.8888888888888888,\"#fdca26\"],[1.0,\"#f0f921\"]]}],\"surface\":[{\"type\":\"surface\",\"colorbar\":{\"outlinewidth\":0,\"ticks\":\"\"},\"colorscale\":[[0.0,\"#0d0887\"],[0.1111111111111111,\"#46039f\"],[0.2222222222222222,\"#7201a8\"],[0.3333333333333333,\"#9c179e\"],[0.4444444444444444,\"#bd3786\"],[0.5555555555555556,\"#d8576b\"],[0.6666666666666666,\"#ed7953\"],[0.7777777777777778,\"#fb9f3a\"],[0.8888888888888888,\"#fdca26\"],[1.0,\"#f0f921\"]]}],\"mesh3d\":[{\"type\":\"mesh3d\",\"colorbar\":{\"outlinewidth\":0,\"ticks\":\"\"}}],\"scatter\":[{\"fillpattern\":{\"fillmode\":\"overlay\",\"size\":10,\"solidity\":0.2},\"type\":\"scatter\"}],\"parcoords\":[{\"type\":\"parcoords\",\"line\":{\"colorbar\":{\"outlinewidth\":0,\"ticks\":\"\"}}}],\"scatterpolargl\":[{\"type\":\"scatterpolargl\",\"marker\":{\"colorbar\":{\"outlinewidth\":0,\"ticks\":\"\"}}}],\"bar\":[{\"error_x\":{\"color\":\"#2a3f5f\"},\"error_y\":{\"color\":\"#2a3f5f\"},\"marker\":{\"line\":{\"color\":\"#E5ECF6\",\"width\":0.5},\"pattern\":{\"fillmode\":\"overlay\",\"size\":10,\"solidity\":0.2}},\"type\":\"bar\"}],\"scattergeo\":[{\"type\":\"scattergeo\",\"marker\":{\"colorbar\":{\"outlinewidth\":0,\"ticks\":\"\"}}}],\"scatterpolar\":[{\"type\":\"scatterpolar\",\"marker\":{\"colorbar\":{\"outlinewidth\":0,\"ticks\":\"\"}}}],\"histogram\":[{\"marker\":{\"pattern\":{\"fillmode\":\"overlay\",\"size\":10,\"solidity\":0.2}},\"type\":\"histogram\"}],\"scattergl\":[{\"type\":\"scattergl\",\"marker\":{\"colorbar\":{\"outlinewidth\":0,\"ticks\":\"\"}}}],\"scatter3d\":[{\"type\":\"scatter3d\",\"line\":{\"colorbar\":{\"outlinewidth\":0,\"ticks\":\"\"}},\"marker\":{\"colorbar\":{\"outlinewidth\":0,\"ticks\":\"\"}}}],\"scattermapbox\":[{\"type\":\"scattermapbox\",\"marker\":{\"colorbar\":{\"outlinewidth\":0,\"ticks\":\"\"}}}],\"scatterternary\":[{\"type\":\"scatterternary\",\"marker\":{\"colorbar\":{\"outlinewidth\":0,\"ticks\":\"\"}}}],\"scattercarpet\":[{\"type\":\"scattercarpet\",\"marker\":{\"colorbar\":{\"outlinewidth\":0,\"ticks\":\"\"}}}],\"carpet\":[{\"aaxis\":{\"endlinecolor\":\"#2a3f5f\",\"gridcolor\":\"white\",\"linecolor\":\"white\",\"minorgridcolor\":\"white\",\"startlinecolor\":\"#2a3f5f\"},\"baxis\":{\"endlinecolor\":\"#2a3f5f\",\"gridcolor\":\"white\",\"linecolor\":\"white\",\"minorgridcolor\":\"white\",\"startlinecolor\":\"#2a3f5f\"},\"type\":\"carpet\"}],\"table\":[{\"cells\":{\"fill\":{\"color\":\"#EBF0F8\"},\"line\":{\"color\":\"white\"}},\"header\":{\"fill\":{\"color\":\"#C8D4E3\"},\"line\":{\"color\":\"white\"}},\"type\":\"table\"}],\"barpolar\":[{\"marker\":{\"line\":{\"color\":\"#E5ECF6\",\"width\":0.5},\"pattern\":{\"fillmode\":\"overlay\",\"size\":10,\"solidity\":0.2}},\"type\":\"barpolar\"}],\"pie\":[{\"automargin\":true,\"type\":\"pie\"}]},\"layout\":{\"autotypenumbers\":\"strict\",\"colorway\":[\"#636efa\",\"#EF553B\",\"#00cc96\",\"#ab63fa\",\"#FFA15A\",\"#19d3f3\",\"#FF6692\",\"#B6E880\",\"#FF97FF\",\"#FECB52\"],\"font\":{\"color\":\"#2a3f5f\"},\"hovermode\":\"closest\",\"hoverlabel\":{\"align\":\"left\"},\"paper_bgcolor\":\"white\",\"plot_bgcolor\":\"#E5ECF6\",\"polar\":{\"bgcolor\":\"#E5ECF6\",\"angularaxis\":{\"gridcolor\":\"white\",\"linecolor\":\"white\",\"ticks\":\"\"},\"radialaxis\":{\"gridcolor\":\"white\",\"linecolor\":\"white\",\"ticks\":\"\"}},\"ternary\":{\"bgcolor\":\"#E5ECF6\",\"aaxis\":{\"gridcolor\":\"white\",\"linecolor\":\"white\",\"ticks\":\"\"},\"baxis\":{\"gridcolor\":\"white\",\"linecolor\":\"white\",\"ticks\":\"\"},\"caxis\":{\"gridcolor\":\"white\",\"linecolor\":\"white\",\"ticks\":\"\"}},\"coloraxis\":{\"colorbar\":{\"outlinewidth\":0,\"ticks\":\"\"}},\"colorscale\":{\"sequential\":[[0.0,\"#0d0887\"],[0.1111111111111111,\"#46039f\"],[0.2222222222222222,\"#7201a8\"],[0.3333333333333333,\"#9c179e\"],[0.4444444444444444,\"#bd3786\"],[0.5555555555555556,\"#d8576b\"],[0.6666666666666666,\"#ed7953\"],[0.7777777777777778,\"#fb9f3a\"],[0.8888888888888888,\"#fdca26\"],[1.0,\"#f0f921\"]],\"sequentialminus\":[[0.0,\"#0d0887\"],[0.1111111111111111,\"#46039f\"],[0.2222222222222222,\"#7201a8\"],[0.3333333333333333,\"#9c179e\"],[0.4444444444444444,\"#bd3786\"],[0.5555555555555556,\"#d8576b\"],[0.6666666666666666,\"#ed7953\"],[0.7777777777777778,\"#fb9f3a\"],[0.8888888888888888,\"#fdca26\"],[1.0,\"#f0f921\"]],\"diverging\":[[0,\"#8e0152\"],[0.1,\"#c51b7d\"],[0.2,\"#de77ae\"],[0.3,\"#f1b6da\"],[0.4,\"#fde0ef\"],[0.5,\"#f7f7f7\"],[0.6,\"#e6f5d0\"],[0.7,\"#b8e186\"],[0.8,\"#7fbc41\"],[0.9,\"#4d9221\"],[1,\"#276419\"]]},\"xaxis\":{\"gridcolor\":\"white\",\"linecolor\":\"white\",\"ticks\":\"\",\"title\":{\"standoff\":15},\"zerolinecolor\":\"white\",\"automargin\":true,\"zerolinewidth\":2},\"yaxis\":{\"gridcolor\":\"white\",\"linecolor\":\"white\",\"ticks\":\"\",\"title\":{\"standoff\":15},\"zerolinecolor\":\"white\",\"automargin\":true,\"zerolinewidth\":2},\"scene\":{\"xaxis\":{\"backgroundcolor\":\"#E5ECF6\",\"gridcolor\":\"white\",\"linecolor\":\"white\",\"showbackground\":true,\"ticks\":\"\",\"zerolinecolor\":\"white\",\"gridwidth\":2},\"yaxis\":{\"backgroundcolor\":\"#E5ECF6\",\"gridcolor\":\"white\",\"linecolor\":\"white\",\"showbackground\":true,\"ticks\":\"\",\"zerolinecolor\":\"white\",\"gridwidth\":2},\"zaxis\":{\"backgroundcolor\":\"#E5ECF6\",\"gridcolor\":\"white\",\"linecolor\":\"white\",\"showbackground\":true,\"ticks\":\"\",\"zerolinecolor\":\"white\",\"gridwidth\":2}},\"shapedefaults\":{\"line\":{\"color\":\"#2a3f5f\"}},\"annotationdefaults\":{\"arrowcolor\":\"#2a3f5f\",\"arrowhead\":0,\"arrowwidth\":1},\"geo\":{\"bgcolor\":\"white\",\"landcolor\":\"#E5ECF6\",\"subunitcolor\":\"white\",\"showland\":true,\"showlakes\":true,\"lakecolor\":\"white\"},\"title\":{\"x\":0.05},\"mapbox\":{\"style\":\"light\"}}},\"xaxis\":{\"anchor\":\"y\",\"domain\":[0.0,0.45]},\"yaxis\":{\"anchor\":\"x\",\"domain\":[0.0,1.0]},\"xaxis2\":{\"anchor\":\"y2\",\"domain\":[0.55,1.0]},\"yaxis2\":{\"anchor\":\"x2\",\"domain\":[0.0,1.0]},\"annotations\":[{\"font\":{\"size\":16},\"showarrow\":false,\"text\":\"Word Count Distribution\",\"x\":0.225,\"xanchor\":\"center\",\"xref\":\"paper\",\"y\":1.0,\"yanchor\":\"bottom\",\"yref\":\"paper\"},{\"font\":{\"size\":16},\"showarrow\":false,\"text\":\"Char Count Distribution\",\"x\":0.775,\"xanchor\":\"center\",\"xref\":\"paper\",\"y\":1.0,\"yanchor\":\"bottom\",\"yref\":\"paper\"}],\"title\":{\"text\":\"Word Count and Char Count Distribution\"}},                        {\"responsive\": true}                    ).then(function(){\n",
       "                            \n",
       "var gd = document.getElementById('e4093bc2-4a99-4bb2-95ef-7b29941a5932');\n",
       "var x = new MutationObserver(function (mutations, observer) {{\n",
       "        var display = window.getComputedStyle(gd).display;\n",
       "        if (!display || display === 'none') {{\n",
       "            console.log([gd, 'removed!']);\n",
       "            Plotly.purge(gd);\n",
       "            observer.disconnect();\n",
       "        }}\n",
       "}});\n",
       "\n",
       "// Listen for the removal of the full notebook cells\n",
       "var notebookContainer = gd.closest('#notebook-container');\n",
       "if (notebookContainer) {{\n",
       "    x.observe(notebookContainer, {childList: true});\n",
       "}}\n",
       "\n",
       "// Listen for the clearing of the current output cell\n",
       "var outputEl = gd.closest('.output');\n",
       "if (outputEl) {{\n",
       "    x.observe(outputEl, {childList: true});\n",
       "}}\n",
       "\n",
       "                        })                };                            </script>        </div>\n",
       "</body>\n",
       "</html>"
      ]
     },
     "metadata": {},
     "output_type": "display_data"
    }
   ],
   "source": [
    "fig_word_count = ff.create_distplot([df[df['labels'] == 1]['word_count'], df[df['labels'] == 0]['word_count']], ['Positive', 'Negative'], bin_size=20, show_rug=False, show_hist=False)\n",
    "fig_char_count = ff.create_distplot([df[df['labels'] == 1]['char_count'], df[df['labels'] == 0]['char_count']], ['Positive', 'Negative'], bin_size=20, show_rug=False, show_hist=False)\n",
    "\n",
    "# fig_word_count.update_layout(title_text='Word Count Distribution', xaxis_title_text='Word Count', yaxis_title_text='Frequency')\n",
    "# fig_char_count.update_layout(title_text = 'Char Count Distribution', xaxis_title_text = 'Char Count', yaxis_title_text='Frequency')\n",
    "# fig_word_count.show()\n",
    "\n",
    "fig = make_subplots(rows=1, cols=2, subplot_titles=('Word Count Distribution', 'Char Count Distribution'))\n",
    "fig.add_trace(fig_word_count.data[0], row=1, col=1)\n",
    "fig.add_trace(fig_word_count.data[1], row=1, col=1)\n",
    "fig.add_trace(fig_char_count.data[0], row=1, col=2)\n",
    "fig.add_trace(fig_char_count.data[1], row=1, col=2)\n",
    "\n",
    "fig.update_layout(title_text='Word Count and Char Count Distribution')\n",
    "fig.show()"
   ]
  },
  {
   "cell_type": "markdown",
   "metadata": {
    "id": "k3OUKhTT6eIo"
   },
   "source": [
    "# Neural Network | One Hot Encoding"
   ]
  },
  {
   "cell_type": "code",
   "execution_count": null,
   "metadata": {
    "executionInfo": {
     "elapsed": 62,
     "status": "ok",
     "timestamp": 1754321581808,
     "user": {
      "displayName": "Aditya Singh",
      "userId": "15506429532817654179"
     },
     "user_tz": -330
    },
    "id": "kh29FY-I0z1s"
   },
   "outputs": [],
   "source": [
    "batch_size = 32\n",
    "epoch = 2"
   ]
  },
  {
   "cell_type": "code",
   "execution_count": null,
   "metadata": {
    "executionInfo": {
     "elapsed": 51,
     "status": "ok",
     "timestamp": 1754321581812,
     "user": {
      "displayName": "Aditya Singh",
      "userId": "15506429532817654179"
     },
     "user_tz": -330
    },
    "id": "65ExlYv5QP-D"
   },
   "outputs": [],
   "source": [
    "vec1 = CountVectorizer(binary=True)\n",
    "vec_tweets1 = vec1.fit_transform(df['clean_tweets']).toarray()\n",
    "x_train, x_test, y_train, y_test = train_test_split(vec_tweets1, df['labels'], test_size=0.2, random_state=42)\n",
    "x_test, x_val, y_test, y_val = train_test_split(x_test,y_test,test_size=0.5)\n",
    "\n",
    "i = Input(shape=(vec_tweets1.shape[1],))\n",
    "x = Dense(256, activation='relu')(i)\n",
    "x = Dropout(0.5)(x)\n",
    "x = Dense(128, activation='relu')(x)\n",
    "x = Dropout(0.5)(x)\n",
    "x = Dense(32, activation='relu')(x)\n",
    "x = Dropout(0.5)(x)\n",
    "x = Dense(1, activation = 'sigmoid')(x)\n",
    "\n",
    "model = Model(i, x)\n",
    "model.compile(optimizer = 'adam', loss = 'binary_crossentropy', metrics = ['accuracy'])\n",
    "history1 = model.fit(x_train, y_train, validation_data=(x_val, y_val), batch_size=batch_size, epochs=epoch)"
   ]
  },
  {
   "cell_type": "code",
   "execution_count": null,
   "metadata": {
    "executionInfo": {
     "elapsed": 46,
     "status": "ok",
     "timestamp": 1754321581817,
     "user": {
      "displayName": "Aditya Singh",
      "userId": "15506429532817654179"
     },
     "user_tz": -330
    },
    "id": "WH_LUYYg6nR9"
   },
   "outputs": [],
   "source": [
    "model.evaluate(x_test, y_test)"
   ]
  },
  {
   "cell_type": "markdown",
   "metadata": {
    "id": "BbF1c_yO2_Vp"
   },
   "source": [
    "# Neural Network | Count Vectorization"
   ]
  },
  {
   "cell_type": "code",
   "execution_count": null,
   "metadata": {
    "executionInfo": {
     "elapsed": 39,
     "status": "ok",
     "timestamp": 1754321581821,
     "user": {
      "displayName": "Aditya Singh",
      "userId": "15506429532817654179"
     },
     "user_tz": -330
    },
    "id": "74OVBS2JDB1U"
   },
   "outputs": [],
   "source": [
    "vec2 = CountVectorizer(binary=False)\n",
    "vec_tweets2 = vec2.fit_transform(df['clean_tweets']).toarray()\n",
    "x_train, x_test, y_train, y_test = train_test_split(vec_tweets2, df['labels'], test_size=0.2, random_state=42)\n",
    "x_test, x_val, y_test, y_val = train_test_split(x_test,y_test,test_size=0.5)\n",
    "\n",
    "i = Input(shape=(vec_tweets2.shape[1],))\n",
    "x = Dense(256, activation='relu')(i)\n",
    "x = Dropout(0.5)(x)\n",
    "x = Dense(128, activation='relu')(x)\n",
    "x = Dropout(0.5)(x)\n",
    "x = Dense(32, activation='relu')(x)\n",
    "x = Dropout(0.5)(x)\n",
    "x = Dense(1, activation = 'sigmoid')(x)\n",
    "\n",
    "model = Model(i, x)\n",
    "model.compile(optimizer = 'adam', loss = 'binary_crossentropy', metrics = ['accuracy'])\n",
    "history2 = model.fit(x_train, y_train, validation_data=(x_val, y_val), batch_size=batch_size, epochs=epoch)"
   ]
  },
  {
   "cell_type": "code",
   "execution_count": null,
   "metadata": {
    "executionInfo": {
     "elapsed": 36,
     "status": "ok",
     "timestamp": 1754321581823,
     "user": {
      "displayName": "Aditya Singh",
      "userId": "15506429532817654179"
     },
     "user_tz": -330
    },
    "id": "PqWxK_m-3k7q"
   },
   "outputs": [],
   "source": [
    "model.evaluate(x_test, y_test)"
   ]
  },
  {
   "cell_type": "markdown",
   "metadata": {
    "id": "NSYFWHby33dU"
   },
   "source": [
    "# Neural Network | TF-IDF Vectorizaton"
   ]
  },
  {
   "cell_type": "code",
   "execution_count": null,
   "metadata": {
    "executionInfo": {
     "elapsed": 36,
     "status": "ok",
     "timestamp": 1754321581827,
     "user": {
      "displayName": "Aditya Singh",
      "userId": "15506429532817654179"
     },
     "user_tz": -330
    },
    "id": "vbrcGdgF4BRp"
   },
   "outputs": [],
   "source": [
    "vec3 = CountVectorizer(binary=False)\n",
    "vec_tweets3 = vec3.fit_transform(df['clean_tweets']).toarray()\n",
    "x_train, x_test, y_train, y_test = train_test_split(vec_tweets3, df['labels'], test_size=0.2, random_state=42)\n",
    "x_test, x_val, y_test, y_val = train_test_split(x_test,y_test,test_size=0.5)\n",
    "\n",
    "i = Input(shape=(vec_tweets3.shape[1],))\n",
    "x = Dense(256, activation='relu')(i)\n",
    "x = Dropout(0.5)(x)\n",
    "x = Dense(128, activation='relu')(x)\n",
    "x = Dropout(0.5)(x)\n",
    "x = Dense(32, activation='relu')(x)\n",
    "x = Dropout(0.5)(x)\n",
    "x = Dense(1, activation = 'sigmoid')(x)\n",
    "\n",
    "model = Model(i, x)\n",
    "model.compile(optimizer = 'adam', loss = 'binary_crossentropy', metrics = ['accuracy'])\n",
    "history3 = model.fit(x_train, y_train, validation_data=(x_val, y_val), batch_size=batch_size, epochs=epoch)"
   ]
  },
  {
   "cell_type": "code",
   "execution_count": null,
   "metadata": {
    "executionInfo": {
     "elapsed": 36,
     "status": "ok",
     "timestamp": 1754321581831,
     "user": {
      "displayName": "Aditya Singh",
      "userId": "15506429532817654179"
     },
     "user_tz": -330
    },
    "id": "KPIRlros4NdG"
   },
   "outputs": [],
   "source": [
    "model.evaluate(x_test, y_test)"
   ]
  },
  {
   "cell_type": "markdown",
   "metadata": {
    "id": "dG8wP4OJ6N4i"
   },
   "source": [
    "# Neural Network | Index Based Encoding"
   ]
  },
  {
   "cell_type": "markdown",
   "metadata": {
    "id": "Dgga0nDB_F4r"
   },
   "source": [
    "## Main"
   ]
  },
  {
   "cell_type": "code",
   "execution_count": null,
   "metadata": {
    "executionInfo": {
     "elapsed": 40881,
     "status": "ok",
     "timestamp": 1754321622681,
     "user": {
      "displayName": "Aditya Singh",
      "userId": "15506429532817654179"
     },
     "user_tz": -330
    },
    "id": "v_6ujGvQ6NeG"
   },
   "outputs": [],
   "source": [
    "seq_len = df['word_count'].max()\n",
    "tokenizer = Tokenizer()\n",
    "tokenizer.fit_on_texts(df['clean_tweets'])\n",
    "word_index = tokenizer.word_index\n",
    "\n",
    "enc_tweets = tokenizer.texts_to_sequences(df['clean_tweets'])\n",
    "enc_tweets = pad_sequences(enc_tweets, padding='post', maxlen=seq_len)\n",
    "\n",
    "x_train, x_test, y_train, y_test = train_test_split(enc_tweets, df['labels'], test_size=0.2, random_state=42)\n",
    "x_test, x_val, y_test, y_val = train_test_split(x_test,y_test,test_size=0.5)\n",
    "\n",
    "i = Input(shape=(enc_tweets.shape[1],))\n",
    "x = Dense(256, activation='relu')(i)\n",
    "x = Dropout(0.5)(x)\n",
    "x = Dense(128, activation='relu')(x)\n",
    "x = Dropout(0.5)(x)\n",
    "x = Dense(32, activation='relu')(x)\n",
    "x = Dropout(0.5)(x)\n",
    "x = Dense(1, activation = 'sigmoid')(x)\n",
    "\n",
    "model = Model(i, x)\n",
    "model.compile(optimizer = 'adam', loss = 'binary_crossentropy', metrics = ['accuracy'])\n",
    "history4 = model.fit(x_train, y_train, validation_data=(x_val, y_val), batch_size=batch_size, epochs=epoch)"
   ]
  },
  {
   "cell_type": "code",
   "execution_count": null,
   "metadata": {
    "executionInfo": {
     "elapsed": 32,
     "status": "ok",
     "timestamp": 1754321622727,
     "user": {
      "displayName": "Aditya Singh",
      "userId": "15506429532817654179"
     },
     "user_tz": -330
    },
    "id": "jHElCOtEJd1V"
   },
   "outputs": [],
   "source": [
    "model.evaluate(x_test,y_test)"
   ]
  },
  {
   "cell_type": "markdown",
   "metadata": {
    "id": "0658OFgNP9wM"
   },
   "source": [
    "## Neural Network | Word Embedding with Text Sequence (Index Based Encoding)"
   ]
  },
  {
   "cell_type": "code",
   "execution_count": null,
   "metadata": {
    "executionInfo": {
     "elapsed": 1,
     "status": "ok",
     "timestamp": 1754321622730,
     "user": {
      "displayName": "Aditya Singh",
      "userId": "15506429532817654179"
     },
     "user_tz": -330
    },
    "id": "XnjwyvphP80F"
   },
   "outputs": [],
   "source": [
    "i = Input(shape=(enc_tweets.shape[1],))\n",
    "x = Embedding(len(word_index)+1, 50)(i)\n",
    "x = Flatten()(x)\n",
    "x = Dense(256, activation='relu')(x)\n",
    "x = Dense(128, activation='relu')(x)\n",
    "x = Dense(32, activation='relu')(x)\n",
    "x = Dropout(0.5)(x)\n",
    "x = Dense(1, activation = 'sigmoid')(x)\n",
    "\n",
    "model = Model(i, x)\n",
    "model.compile(optimizer = Adam(learning_rate=0.0001), loss = 'binary_crossentropy', metrics = ['accuracy'])\n",
    "history5 = model.fit(x_train, y_train, validation_data=(x_val, y_val), batch_size=512, epochs=10)"
   ]
  },
  {
   "cell_type": "code",
   "execution_count": null,
   "metadata": {
    "executionInfo": {
     "elapsed": 18,
     "status": "ok",
     "timestamp": 1754321622764,
     "user": {
      "displayName": "Aditya Singh",
      "userId": "15506429532817654179"
     },
     "user_tz": -330
    },
    "id": "OwMVUs_tSS1V"
   },
   "outputs": [],
   "source": [
    "model.evaluate(x_test, y_test)"
   ]
  },
  {
   "cell_type": "code",
   "execution_count": null,
   "metadata": {
    "executionInfo": {
     "elapsed": 3,
     "status": "ok",
     "timestamp": 1754321622797,
     "user": {
      "displayName": "Aditya Singh",
      "userId": "15506429532817654179"
     },
     "user_tz": -330
    },
    "id": "4iTPQqCwarTd"
   },
   "outputs": [],
   "source": [
    "len(word_index)"
   ]
  },
  {
   "cell_type": "markdown",
   "metadata": {
    "id": "AOR3Tf7ZfW7d"
   },
   "source": [
    "## Neural Network | Embedding + SimpleRNN"
   ]
  },
  {
   "cell_type": "code",
   "execution_count": null,
   "metadata": {
    "executionInfo": {
     "elapsed": 3,
     "status": "ok",
     "timestamp": 1754321622829,
     "user": {
      "displayName": "Aditya Singh",
      "userId": "15506429532817654179"
     },
     "user_tz": -330
    },
    "id": "Ph-UwGePfexF"
   },
   "outputs": [],
   "source": [
    "i = Input(shape=(enc_tweets.shape[1],))\n",
    "x = Embedding(len(word_index)+1, 100)(i)\n",
    "x = SimpleRNN(100, dropout= 0.2, return_sequences=True)(x)\n",
    "x = SimpleRNN(50)(x)\n",
    "x = Dense(32, activation='relu')(x)\n",
    "x = Dropout(0.5)(x)\n",
    "x = Dense(1, activation = 'sigmoid')(x)\n",
    "\n",
    "model = Model(i, x)\n",
    "model.compile(optimizer = Adam(learning_rate=0.0007), loss = 'binary_crossentropy', metrics = ['accuracy'])\n",
    "history6 = model.fit(x_train, y_train, validation_data=(x_val, y_val), batch_size=batch_size, epochs=10)"
   ]
  },
  {
   "cell_type": "code",
   "execution_count": null,
   "metadata": {
    "executionInfo": {
     "elapsed": 67,
     "status": "ok",
     "timestamp": 1754321622898,
     "user": {
      "displayName": "Aditya Singh",
      "userId": "15506429532817654179"
     },
     "user_tz": -330
    },
    "id": "NsOHqY-ChSct"
   },
   "outputs": [],
   "source": [
    "model.evaluate(x_test, y_test)"
   ]
  },
  {
   "cell_type": "markdown",
   "metadata": {
    "id": "FgjhrPSTlXr0"
   },
   "source": []
  },
  {
   "cell_type": "markdown",
   "metadata": {
    "id": "JYDGssBinznK"
   },
   "source": [
    "## Neural Network | Embedding + LSTM"
   ]
  },
  {
   "cell_type": "code",
   "execution_count": null,
   "metadata": {
    "executionInfo": {
     "elapsed": 38,
     "status": "ok",
     "timestamp": 1754321622901,
     "user": {
      "displayName": "Aditya Singh",
      "userId": "15506429532817654179"
     },
     "user_tz": -330
    },
    "id": "qXUOzjj_hRTh"
   },
   "outputs": [],
   "source": [
    "i = Input(shape=(enc_tweets.shape[1],))\n",
    "x = Embedding(len(word_index)+1, 100)(i)\n",
    "x = LSTM(100, dropout= 0.2, return_sequences=True)(x)\n",
    "x = LSTM(50)(x)\n",
    "x = Dense(32, activation='relu')(x)\n",
    "x = Dropout(0.5)(x)\n",
    "x = Dense(1, activation = 'sigmoid')(x)\n",
    "\n",
    "model = Model(i, x)\n",
    "model.compile(optimizer = Adam(learning_rate=0.0001), loss = 'binary_crossentropy', metrics = ['accuracy'])\n",
    "history7 = model.fit(x_train, y_train, validation_data=(x_val, y_val), batch_size=32, epochs=10)"
   ]
  },
  {
   "cell_type": "code",
   "execution_count": null,
   "metadata": {
    "executionInfo": {
     "elapsed": 30,
     "status": "ok",
     "timestamp": 1754321622915,
     "user": {
      "displayName": "Aditya Singh",
      "userId": "15506429532817654179"
     },
     "user_tz": -330
    },
    "id": "g3uEl-wko1Mo"
   },
   "outputs": [],
   "source": [
    "model.evaluate(x_test, y_test)"
   ]
  },
  {
   "cell_type": "markdown",
   "metadata": {
    "id": "1i1nYPsJxe8i"
   },
   "source": []
  },
  {
   "cell_type": "markdown",
   "metadata": {
    "id": "PAvwtFwJxh03"
   },
   "source": [
    "## Neural Network | Embedding + GRU"
   ]
  },
  {
   "cell_type": "code",
   "execution_count": null,
   "metadata": {
    "executionInfo": {
     "elapsed": 32,
     "status": "ok",
     "timestamp": 1754321622927,
     "user": {
      "displayName": "Aditya Singh",
      "userId": "15506429532817654179"
     },
     "user_tz": -330
    },
    "id": "Cv0E3445xlfe"
   },
   "outputs": [],
   "source": [
    "i = Input(shape=(enc_tweets.shape[1],))\n",
    "x = Embedding(len(word_index)+1, 100)(i)\n",
    "x = GRU(100, dropout= 0.2, return_sequences=True)(x)\n",
    "x = GRU(50)(x)\n",
    "x = Dense(32, activation='relu')(x)\n",
    "x = Dropout(0.5)(x)\n",
    "x = Dense(1, activation = 'sigmoid')(x)\n",
    "\n",
    "model = Model(i, x)\n",
    "model.compile(optimizer = Adam(learning_rate=0.0001), loss = 'binary_crossentropy', metrics = ['accuracy'])\n",
    "history7 = model.fit(x_train, y_train, validation_data=(x_val, y_val), batch_size=32, epochs=10)"
   ]
  },
  {
   "cell_type": "code",
   "execution_count": null,
   "metadata": {
    "executionInfo": {
     "elapsed": 2,
     "status": "ok",
     "timestamp": 1754321622930,
     "user": {
      "displayName": "Aditya Singh",
      "userId": "15506429532817654179"
     },
     "user_tz": -330
    },
    "id": "qDomBOM3y7QZ"
   },
   "outputs": [],
   "source": [
    "model.evaluate(x_test, y_test)"
   ]
  },
  {
   "cell_type": "markdown",
   "metadata": {
    "id": "DRJNE7Bw0sl-"
   },
   "source": [
    "## Neural Network | Embedding + Bidirectional(Updated Complexity)"
   ]
  },
  {
   "cell_type": "markdown",
   "metadata": {
    "id": "6izI4uxj2d5B"
   },
   "source": [
    "### Bidirectional + LSTM"
   ]
  },
  {
   "cell_type": "code",
   "execution_count": null,
   "metadata": {
    "colab": {
     "base_uri": "https://localhost:8080/"
    },
    "id": "H26l_Sse0rhB",
    "outputId": "3f4ffbb0-6f77-4e80-ad84-c649a9ab0799"
   },
   "outputs": [],
   "source": [
    "i = Input(shape=(enc_tweets.shape[1],))\n",
    "x = Embedding(len(word_index)+1, 300)(i)\n",
    "\n",
    "\n",
    "x = Bidirectional(LSTM(300, dropout= 0.2, return_sequences=True))(x)\n",
    "x = Conv1D(256, 5, activation='relu')(x)\n",
    "x = Dense(256, activation='relu')(x)\n",
    "x = Dropout(0.2)(x)\n",
    "\n",
    "\n",
    "x = Bidirectional(LSTM(200, return_sequences=True))(x)\n",
    "x = Conv1D(128, 5, activation='relu')(x)\n",
    "x = Dense(128, activation='relu')(x)\n",
    "x = Dropout(0.2)(x)\n",
    "\n",
    "\n",
    "x = Bidirectional(LSTM(100, return_sequences=True))(x)\n",
    "x = Conv1D(64, 5, activation='relu')(x)\n",
    "x = Dense(64, activation='relu')(x)\n",
    "x = Dropout(0.2)(x)\n",
    "\n",
    "\n",
    "x = GlobalMaxPool1D()(x)\n",
    "\n",
    "\n",
    "x = Dense(1, activation = 'sigmoid')(x)\n",
    "\n",
    "model = Model(i, x)\n",
    "model.compile(optimizer = Adam(learning_rate=0.0001), loss = 'binary_crossentropy', metrics = ['accuracy'])\n",
    "history7 = model.fit(x_train, y_train, validation_data=(x_val, y_val), batch_size=512, epochs=30)"
   ]
  },
  {
   "cell_type": "code",
   "execution_count": null,
   "metadata": {
    "executionInfo": {
     "elapsed": 1,
     "status": "aborted",
     "timestamp": 1754321625226,
     "user": {
      "displayName": "Aditya Singh",
      "userId": "15506429532817654179"
     },
     "user_tz": -330
    },
    "id": "QbOmdmmx20be"
   },
   "outputs": [],
   "source": [
    "model.evaluate(x_test, y_test)"
   ]
  },
  {
   "cell_type": "markdown",
   "metadata": {
    "id": "HHGLGhXT22Xc"
   },
   "source": [
    "### Bidirectional + GRU"
   ]
  },
  {
   "cell_type": "code",
   "execution_count": null,
   "metadata": {
    "executionInfo": {
     "elapsed": 75678,
     "status": "aborted",
     "timestamp": 1754321625228,
     "user": {
      "displayName": "Aditya Singh",
      "userId": "15506429532817654179"
     },
     "user_tz": -330
    },
    "id": "SqHFng9T29Ls"
   },
   "outputs": [],
   "source": [
    "i = Input(shape=(enc_tweets.shape[1],))\n",
    "x = Embedding(len(word_index)+1, 100)(i)\n",
    "x = Bidirectional(GRU(100, dropout= 0.2, return_sequences=True))(x)\n",
    "x = Bidirectional(GRU(50))(x)\n",
    "x = Dense(32, activation='relu')(x)\n",
    "x = Dropout(0.5)(x)\n",
    "x = Dense(1, activation = 'sigmoid')(x)\n",
    "\n",
    "model = Model(i, x)\n",
    "model.compile(optimizer = Adam(learning_rate=0.0001), loss = 'binary_crossentropy', metrics = ['accuracy'])\n",
    "history7 = model.fit(x_train, y_train, validation_data=(x_val, y_val), batch_size=32, epochs=10)"
   ]
  },
  {
   "cell_type": "code",
   "execution_count": null,
   "metadata": {
    "executionInfo": {
     "elapsed": 75677,
     "status": "aborted",
     "timestamp": 1754321625230,
     "user": {
      "displayName": "Aditya Singh",
      "userId": "15506429532817654179"
     },
     "user_tz": -330
    },
    "id": "XGxZxFPm3G1A"
   },
   "outputs": [],
   "source": [
    "model.evaluate(x_test, y_test)"
   ]
  }
 ],
 "metadata": {
  "accelerator": "GPU",
  "colab": {
   "authorship_tag": "ABX9TyOr3gptsEjQaA5f7brmJwzE",
   "collapsed_sections": [
    "k3OUKhTT6eIo",
    "BbF1c_yO2_Vp",
    "NSYFWHby33dU",
    "Dgga0nDB_F4r",
    "0658OFgNP9wM",
    "AOR3Tf7ZfW7d",
    "JYDGssBinznK",
    "PAvwtFwJxh03",
    "HHGLGhXT22Xc"
   ],
   "gpuType": "T4",
   "mount_file_id": "1OuJ57pfQUt9jhOr04RNnT_LWTqARxAOS",
   "provenance": []
  },
  "kernelspec": {
   "display_name": "base",
   "language": "python",
   "name": "python3"
  },
  "language_info": {
   "codemirror_mode": {
    "name": "ipython",
    "version": 3
   },
   "file_extension": ".py",
   "mimetype": "text/x-python",
   "name": "python",
   "nbconvert_exporter": "python",
   "pygments_lexer": "ipython3",
   "version": "3.12.7"
  }
 },
 "nbformat": 4,
 "nbformat_minor": 0
}
